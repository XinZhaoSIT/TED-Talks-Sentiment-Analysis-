{
 "cells": [
  {
   "cell_type": "markdown",
   "metadata": {},
   "source": [
    "# Ted Talk Analysis:Logistic Regression"
   ]
  },
  {
   "cell_type": "markdown",
   "metadata": {},
   "source": [
    "Problem Statement\n",
    "Understanding the problem statement is the first and foremost step. This would help you give an intuition of what you will face ahead of time. Let us see the problem statement -\n",
    "\n",
    "The objective of this task is to detect if the ted talk is popular. For the sake of simplicity, we say how emotion  can affect the popularity of Ted Talk. So, the task is to find the relationship between the emotion and the popularity. And I did a contrast. Because I thought the number of comments is also a display for the people emotion. The more emotion shows that people have more strong emotion for the Ted Talk. The first LR is with comments and the second one is without comments\n",
    "\n",
    "Formally, given a training sample of tweets and labels, the higher of views( times that the video had been watched) shows that the video is more popular. I used the mean value of views to decide whether the ted talk is popular. If the views is higher than the mean value represent that the ted talk is popular, and the value will return to 1, otherwise, return to 0 your objective is to predict the labels on the test dataset.\n",
    "\n",
    "Thanks to my teammates, they have already did the Text PreProcessing and Cleaning. I just use a few column from the dataset and build the model\n",
    "\n"
   ]
  },
  {
   "cell_type": "markdown",
   "metadata": {},
   "source": [
    "# M1:  Date with comments"
   ]
  },
  {
   "cell_type": "markdown",
   "metadata": {},
   "source": [
    "## Loading Libraries and Data"
   ]
  },
  {
   "cell_type": "code",
   "execution_count": 24,
   "metadata": {},
   "outputs": [],
   "source": [
    "import pandas as pd\n",
    "import numpy as np\n",
    "import matplotlib.pyplot as plt \n",
    "import seaborn as sns"
   ]
  },
  {
   "cell_type": "markdown",
   "metadata": {},
   "source": [
    "Use the mean value to distinguish the data"
   ]
  },
  {
   "cell_type": "code",
   "execution_count": 47,
   "metadata": {},
   "outputs": [
    {
     "data": {
      "text/html": [
       "<div>\n",
       "<style scoped>\n",
       "    .dataframe tbody tr th:only-of-type {\n",
       "        vertical-align: middle;\n",
       "    }\n",
       "\n",
       "    .dataframe tbody tr th {\n",
       "        vertical-align: top;\n",
       "    }\n",
       "\n",
       "    .dataframe thead th {\n",
       "        text-align: right;\n",
       "    }\n",
       "</style>\n",
       "<table border=\"1\" class=\"dataframe\">\n",
       "  <thead>\n",
       "    <tr style=\"text-align: right;\">\n",
       "      <th></th>\n",
       "      <th>views</th>\n",
       "      <th>comments</th>\n",
       "      <th>AFRAID</th>\n",
       "      <th>AMUSED</th>\n",
       "      <th>ANGRY</th>\n",
       "      <th>ANNOYED</th>\n",
       "      <th>DONT_CARE</th>\n",
       "      <th>HAPPY</th>\n",
       "      <th>INSPIRED</th>\n",
       "      <th>SAD</th>\n",
       "    </tr>\n",
       "  </thead>\n",
       "  <tbody>\n",
       "    <tr>\n",
       "      <th>0</th>\n",
       "      <td>1</td>\n",
       "      <td>4553</td>\n",
       "      <td>0.092794</td>\n",
       "      <td>0.114177</td>\n",
       "      <td>0.116472</td>\n",
       "      <td>0.132365</td>\n",
       "      <td>0.129963</td>\n",
       "      <td>0.105839</td>\n",
       "      <td>0.201247</td>\n",
       "      <td>0.107143</td>\n",
       "    </tr>\n",
       "    <tr>\n",
       "      <th>1</th>\n",
       "      <td>1</td>\n",
       "      <td>265</td>\n",
       "      <td>0.108238</td>\n",
       "      <td>0.111975</td>\n",
       "      <td>0.121799</td>\n",
       "      <td>0.134885</td>\n",
       "      <td>0.129981</td>\n",
       "      <td>0.107100</td>\n",
       "      <td>0.178588</td>\n",
       "      <td>0.107434</td>\n",
       "    </tr>\n",
       "    <tr>\n",
       "      <th>2</th>\n",
       "      <td>0</td>\n",
       "      <td>124</td>\n",
       "      <td>0.093672</td>\n",
       "      <td>0.123894</td>\n",
       "      <td>0.115410</td>\n",
       "      <td>0.138560</td>\n",
       "      <td>0.138518</td>\n",
       "      <td>0.108802</td>\n",
       "      <td>0.179580</td>\n",
       "      <td>0.101564</td>\n",
       "    </tr>\n",
       "    <tr>\n",
       "      <th>3</th>\n",
       "      <td>0</td>\n",
       "      <td>200</td>\n",
       "      <td>0.105926</td>\n",
       "      <td>0.106197</td>\n",
       "      <td>0.128772</td>\n",
       "      <td>0.134356</td>\n",
       "      <td>0.121305</td>\n",
       "      <td>0.108597</td>\n",
       "      <td>0.182394</td>\n",
       "      <td>0.112452</td>\n",
       "    </tr>\n",
       "    <tr>\n",
       "      <th>4</th>\n",
       "      <td>1</td>\n",
       "      <td>593</td>\n",
       "      <td>0.108617</td>\n",
       "      <td>0.112215</td>\n",
       "      <td>0.118959</td>\n",
       "      <td>0.129735</td>\n",
       "      <td>0.126809</td>\n",
       "      <td>0.107173</td>\n",
       "      <td>0.184243</td>\n",
       "      <td>0.112248</td>\n",
       "    </tr>\n",
       "    <tr>\n",
       "      <th>...</th>\n",
       "      <td>...</td>\n",
       "      <td>...</td>\n",
       "      <td>...</td>\n",
       "      <td>...</td>\n",
       "      <td>...</td>\n",
       "      <td>...</td>\n",
       "      <td>...</td>\n",
       "      <td>...</td>\n",
       "      <td>...</td>\n",
       "      <td>...</td>\n",
       "    </tr>\n",
       "    <tr>\n",
       "      <th>2457</th>\n",
       "      <td>0</td>\n",
       "      <td>17</td>\n",
       "      <td>0.102343</td>\n",
       "      <td>0.108939</td>\n",
       "      <td>0.131899</td>\n",
       "      <td>0.138636</td>\n",
       "      <td>0.126494</td>\n",
       "      <td>0.101510</td>\n",
       "      <td>0.174694</td>\n",
       "      <td>0.115485</td>\n",
       "    </tr>\n",
       "    <tr>\n",
       "      <th>2458</th>\n",
       "      <td>0</td>\n",
       "      <td>6</td>\n",
       "      <td>0.120188</td>\n",
       "      <td>0.119194</td>\n",
       "      <td>0.114707</td>\n",
       "      <td>0.126044</td>\n",
       "      <td>0.117753</td>\n",
       "      <td>0.104346</td>\n",
       "      <td>0.175029</td>\n",
       "      <td>0.122739</td>\n",
       "    </tr>\n",
       "    <tr>\n",
       "      <th>2459</th>\n",
       "      <td>0</td>\n",
       "      <td>10</td>\n",
       "      <td>0.097120</td>\n",
       "      <td>0.131195</td>\n",
       "      <td>0.119608</td>\n",
       "      <td>0.129501</td>\n",
       "      <td>0.123598</td>\n",
       "      <td>0.106018</td>\n",
       "      <td>0.193803</td>\n",
       "      <td>0.099157</td>\n",
       "    </tr>\n",
       "    <tr>\n",
       "      <th>2460</th>\n",
       "      <td>0</td>\n",
       "      <td>32</td>\n",
       "      <td>0.094750</td>\n",
       "      <td>0.117907</td>\n",
       "      <td>0.122510</td>\n",
       "      <td>0.136626</td>\n",
       "      <td>0.131677</td>\n",
       "      <td>0.101304</td>\n",
       "      <td>0.191245</td>\n",
       "      <td>0.103982</td>\n",
       "    </tr>\n",
       "    <tr>\n",
       "      <th>2461</th>\n",
       "      <td>0</td>\n",
       "      <td>8</td>\n",
       "      <td>0.099718</td>\n",
       "      <td>0.114283</td>\n",
       "      <td>0.115306</td>\n",
       "      <td>0.133201</td>\n",
       "      <td>0.128464</td>\n",
       "      <td>0.111701</td>\n",
       "      <td>0.191686</td>\n",
       "      <td>0.105641</td>\n",
       "    </tr>\n",
       "  </tbody>\n",
       "</table>\n",
       "<p>2462 rows × 10 columns</p>\n",
       "</div>"
      ],
      "text/plain": [
       "      views  comments    AFRAID    AMUSED     ANGRY   ANNOYED  DONT_CARE  \\\n",
       "0         1      4553  0.092794  0.114177  0.116472  0.132365   0.129963   \n",
       "1         1       265  0.108238  0.111975  0.121799  0.134885   0.129981   \n",
       "2         0       124  0.093672  0.123894  0.115410  0.138560   0.138518   \n",
       "3         0       200  0.105926  0.106197  0.128772  0.134356   0.121305   \n",
       "4         1       593  0.108617  0.112215  0.118959  0.129735   0.126809   \n",
       "...     ...       ...       ...       ...       ...       ...        ...   \n",
       "2457      0        17  0.102343  0.108939  0.131899  0.138636   0.126494   \n",
       "2458      0         6  0.120188  0.119194  0.114707  0.126044   0.117753   \n",
       "2459      0        10  0.097120  0.131195  0.119608  0.129501   0.123598   \n",
       "2460      0        32  0.094750  0.117907  0.122510  0.136626   0.131677   \n",
       "2461      0         8  0.099718  0.114283  0.115306  0.133201   0.128464   \n",
       "\n",
       "         HAPPY  INSPIRED       SAD  \n",
       "0     0.105839  0.201247  0.107143  \n",
       "1     0.107100  0.178588  0.107434  \n",
       "2     0.108802  0.179580  0.101564  \n",
       "3     0.108597  0.182394  0.112452  \n",
       "4     0.107173  0.184243  0.112248  \n",
       "...        ...       ...       ...  \n",
       "2457  0.101510  0.174694  0.115485  \n",
       "2458  0.104346  0.175029  0.122739  \n",
       "2459  0.106018  0.193803  0.099157  \n",
       "2460  0.101304  0.191245  0.103982  \n",
       "2461  0.111701  0.191686  0.105641  \n",
       "\n",
       "[2462 rows x 10 columns]"
      ]
     },
     "execution_count": 47,
     "metadata": {},
     "output_type": "execute_result"
    }
   ],
   "source": [
    "df = pd.read_csv('LRdata.csv',encoding = 'GBK')\n",
    "df['views'] = np.where(df['views']>=1.741049e+06,1,0)\n",
    "df\n"
   ]
  },
  {
   "cell_type": "markdown",
   "metadata": {},
   "source": [
    "To make sure there are no null value in the data"
   ]
  },
  {
   "cell_type": "code",
   "execution_count": 48,
   "metadata": {},
   "outputs": [
    {
     "name": "stdout",
     "output_type": "stream",
     "text": [
      "<class 'pandas.core.frame.DataFrame'>\n",
      "RangeIndex: 2462 entries, 0 to 2461\n",
      "Data columns (total 10 columns):\n",
      " #   Column     Non-Null Count  Dtype  \n",
      "---  ------     --------------  -----  \n",
      " 0   views      2462 non-null   int64  \n",
      " 1   comments   2462 non-null   int64  \n",
      " 2   AFRAID     2462 non-null   float64\n",
      " 3   AMUSED     2462 non-null   float64\n",
      " 4   ANGRY      2462 non-null   float64\n",
      " 5   ANNOYED    2462 non-null   float64\n",
      " 6   DONT_CARE  2462 non-null   float64\n",
      " 7   HAPPY      2462 non-null   float64\n",
      " 8   INSPIRED   2462 non-null   float64\n",
      " 9   SAD        2462 non-null   float64\n",
      "dtypes: float64(8), int64(2)\n",
      "memory usage: 192.5 KB\n"
     ]
    },
    {
     "data": {
      "text/plain": [
       "(2462, 10)"
      ]
     },
     "execution_count": 48,
     "metadata": {},
     "output_type": "execute_result"
    }
   ],
   "source": [
    "df.info()\n",
    "df.shape"
   ]
  },
  {
   "cell_type": "code",
   "execution_count": 97,
   "metadata": {},
   "outputs": [
    {
     "name": "stdout",
     "output_type": "stream",
     "text": [
      "views        0.248578\n",
      "AFRAID       0.101758\n",
      "AMUSED       0.117387\n",
      "ANGRY        0.118941\n",
      "ANNOYED      0.132210\n",
      "DONT_CARE    0.128136\n",
      "HAPPY        0.105526\n",
      "INSPIRED     0.187950\n",
      "SAD          0.108092\n",
      "dtype: float64\n"
     ]
    }
   ],
   "source": [
    "print(df.mean())\n",
    "\n",
    "#caculate the mean value, "
   ]
  },
  {
   "cell_type": "markdown",
   "metadata": {},
   "source": [
    "Caculate the sum of 1 in the views"
   ]
  },
  {
   "cell_type": "code",
   "execution_count": 51,
   "metadata": {},
   "outputs": [
    {
     "data": {
      "text/plain": [
       "612"
      ]
     },
     "execution_count": 51,
     "metadata": {},
     "output_type": "execute_result"
    }
   ],
   "source": [
    "y = df.iloc[:,0]\n",
    "x = df.iloc[:,1:]\n",
    "y.sum()\n"
   ]
  },
  {
   "cell_type": "markdown",
   "metadata": {},
   "source": [
    "## Building the HEATMAP"
   ]
  },
  {
   "cell_type": "markdown",
   "metadata": {},
   "source": [
    "Use the pearson method to caculate the correlation for the emotions and the comments "
   ]
  },
  {
   "cell_type": "code",
   "execution_count": 50,
   "metadata": {},
   "outputs": [
    {
     "data": {
      "text/html": [
       "<div>\n",
       "<style scoped>\n",
       "    .dataframe tbody tr th:only-of-type {\n",
       "        vertical-align: middle;\n",
       "    }\n",
       "\n",
       "    .dataframe tbody tr th {\n",
       "        vertical-align: top;\n",
       "    }\n",
       "\n",
       "    .dataframe thead th {\n",
       "        text-align: right;\n",
       "    }\n",
       "</style>\n",
       "<table border=\"1\" class=\"dataframe\">\n",
       "  <thead>\n",
       "    <tr style=\"text-align: right;\">\n",
       "      <th></th>\n",
       "      <th>views</th>\n",
       "      <th>comments</th>\n",
       "      <th>AFRAID</th>\n",
       "      <th>AMUSED</th>\n",
       "      <th>ANGRY</th>\n",
       "      <th>ANNOYED</th>\n",
       "      <th>DONT_CARE</th>\n",
       "      <th>HAPPY</th>\n",
       "      <th>INSPIRED</th>\n",
       "      <th>SAD</th>\n",
       "    </tr>\n",
       "  </thead>\n",
       "  <tbody>\n",
       "    <tr>\n",
       "      <th>views</th>\n",
       "      <td>1.000000</td>\n",
       "      <td>0.373941</td>\n",
       "      <td>-0.197620</td>\n",
       "      <td>0.097028</td>\n",
       "      <td>-0.094601</td>\n",
       "      <td>0.090237</td>\n",
       "      <td>0.142386</td>\n",
       "      <td>-0.004543</td>\n",
       "      <td>0.167730</td>\n",
       "      <td>-0.116249</td>\n",
       "    </tr>\n",
       "    <tr>\n",
       "      <th>comments</th>\n",
       "      <td>0.373941</td>\n",
       "      <td>1.000000</td>\n",
       "      <td>-0.044133</td>\n",
       "      <td>-0.021861</td>\n",
       "      <td>0.041938</td>\n",
       "      <td>0.117957</td>\n",
       "      <td>-0.007889</td>\n",
       "      <td>-0.096562</td>\n",
       "      <td>0.050159</td>\n",
       "      <td>-0.038030</td>\n",
       "    </tr>\n",
       "    <tr>\n",
       "      <th>AFRAID</th>\n",
       "      <td>-0.197620</td>\n",
       "      <td>-0.044133</td>\n",
       "      <td>1.000000</td>\n",
       "      <td>-0.302458</td>\n",
       "      <td>0.323362</td>\n",
       "      <td>-0.316697</td>\n",
       "      <td>-0.732029</td>\n",
       "      <td>-0.425134</td>\n",
       "      <td>-0.661385</td>\n",
       "      <td>0.504230</td>\n",
       "    </tr>\n",
       "    <tr>\n",
       "      <th>AMUSED</th>\n",
       "      <td>0.097028</td>\n",
       "      <td>-0.021861</td>\n",
       "      <td>-0.302458</td>\n",
       "      <td>1.000000</td>\n",
       "      <td>-0.670233</td>\n",
       "      <td>-0.285749</td>\n",
       "      <td>0.358256</td>\n",
       "      <td>0.343798</td>\n",
       "      <td>0.257202</td>\n",
       "      <td>-0.578278</td>\n",
       "    </tr>\n",
       "    <tr>\n",
       "      <th>ANGRY</th>\n",
       "      <td>-0.094601</td>\n",
       "      <td>0.041938</td>\n",
       "      <td>0.323362</td>\n",
       "      <td>-0.670233</td>\n",
       "      <td>1.000000</td>\n",
       "      <td>0.473054</td>\n",
       "      <td>-0.535055</td>\n",
       "      <td>-0.555171</td>\n",
       "      <td>-0.591665</td>\n",
       "      <td>0.426177</td>\n",
       "    </tr>\n",
       "    <tr>\n",
       "      <th>ANNOYED</th>\n",
       "      <td>0.090237</td>\n",
       "      <td>0.117957</td>\n",
       "      <td>-0.316697</td>\n",
       "      <td>-0.285749</td>\n",
       "      <td>0.473054</td>\n",
       "      <td>1.000000</td>\n",
       "      <td>0.047510</td>\n",
       "      <td>-0.139958</td>\n",
       "      <td>-0.079309</td>\n",
       "      <td>-0.302981</td>\n",
       "    </tr>\n",
       "    <tr>\n",
       "      <th>DONT_CARE</th>\n",
       "      <td>0.142386</td>\n",
       "      <td>-0.007889</td>\n",
       "      <td>-0.732029</td>\n",
       "      <td>0.358256</td>\n",
       "      <td>-0.535055</td>\n",
       "      <td>0.047510</td>\n",
       "      <td>1.000000</td>\n",
       "      <td>0.463702</td>\n",
       "      <td>0.394805</td>\n",
       "      <td>-0.485816</td>\n",
       "    </tr>\n",
       "    <tr>\n",
       "      <th>HAPPY</th>\n",
       "      <td>-0.004543</td>\n",
       "      <td>-0.096562</td>\n",
       "      <td>-0.425134</td>\n",
       "      <td>0.343798</td>\n",
       "      <td>-0.555171</td>\n",
       "      <td>-0.139958</td>\n",
       "      <td>0.463702</td>\n",
       "      <td>1.000000</td>\n",
       "      <td>0.312888</td>\n",
       "      <td>-0.497812</td>\n",
       "    </tr>\n",
       "    <tr>\n",
       "      <th>INSPIRED</th>\n",
       "      <td>0.167730</td>\n",
       "      <td>0.050159</td>\n",
       "      <td>-0.661385</td>\n",
       "      <td>0.257202</td>\n",
       "      <td>-0.591665</td>\n",
       "      <td>-0.079309</td>\n",
       "      <td>0.394805</td>\n",
       "      <td>0.312888</td>\n",
       "      <td>1.000000</td>\n",
       "      <td>-0.450095</td>\n",
       "    </tr>\n",
       "    <tr>\n",
       "      <th>SAD</th>\n",
       "      <td>-0.116249</td>\n",
       "      <td>-0.038030</td>\n",
       "      <td>0.504230</td>\n",
       "      <td>-0.578278</td>\n",
       "      <td>0.426177</td>\n",
       "      <td>-0.302981</td>\n",
       "      <td>-0.485816</td>\n",
       "      <td>-0.497812</td>\n",
       "      <td>-0.450095</td>\n",
       "      <td>1.000000</td>\n",
       "    </tr>\n",
       "  </tbody>\n",
       "</table>\n",
       "</div>"
      ],
      "text/plain": [
       "              views  comments    AFRAID    AMUSED     ANGRY   ANNOYED  \\\n",
       "views      1.000000  0.373941 -0.197620  0.097028 -0.094601  0.090237   \n",
       "comments   0.373941  1.000000 -0.044133 -0.021861  0.041938  0.117957   \n",
       "AFRAID    -0.197620 -0.044133  1.000000 -0.302458  0.323362 -0.316697   \n",
       "AMUSED     0.097028 -0.021861 -0.302458  1.000000 -0.670233 -0.285749   \n",
       "ANGRY     -0.094601  0.041938  0.323362 -0.670233  1.000000  0.473054   \n",
       "ANNOYED    0.090237  0.117957 -0.316697 -0.285749  0.473054  1.000000   \n",
       "DONT_CARE  0.142386 -0.007889 -0.732029  0.358256 -0.535055  0.047510   \n",
       "HAPPY     -0.004543 -0.096562 -0.425134  0.343798 -0.555171 -0.139958   \n",
       "INSPIRED   0.167730  0.050159 -0.661385  0.257202 -0.591665 -0.079309   \n",
       "SAD       -0.116249 -0.038030  0.504230 -0.578278  0.426177 -0.302981   \n",
       "\n",
       "           DONT_CARE     HAPPY  INSPIRED       SAD  \n",
       "views       0.142386 -0.004543  0.167730 -0.116249  \n",
       "comments   -0.007889 -0.096562  0.050159 -0.038030  \n",
       "AFRAID     -0.732029 -0.425134 -0.661385  0.504230  \n",
       "AMUSED      0.358256  0.343798  0.257202 -0.578278  \n",
       "ANGRY      -0.535055 -0.555171 -0.591665  0.426177  \n",
       "ANNOYED     0.047510 -0.139958 -0.079309 -0.302981  \n",
       "DONT_CARE   1.000000  0.463702  0.394805 -0.485816  \n",
       "HAPPY       0.463702  1.000000  0.312888 -0.497812  \n",
       "INSPIRED    0.394805  0.312888  1.000000 -0.450095  \n",
       "SAD        -0.485816 -0.497812 -0.450095  1.000000  "
      ]
     },
     "execution_count": 50,
     "metadata": {},
     "output_type": "execute_result"
    }
   ],
   "source": [
    "corr = df.corr(method = 'pearson')\n",
    "corr"
   ]
  },
  {
   "cell_type": "code",
   "execution_count": 100,
   "metadata": {},
   "outputs": [
    {
     "data": {
      "image/png": "[encoded data removed]",
      "text/plain": [
       "<Figure size 576x576 with 2 Axes>"
      ]
     },
     "metadata": {},
     "output_type": "display_data"
    }
   ],
   "source": [
    "plt.subplots(figsize=(8,8)) \n",
    "plt.rcParams['axes.unicode_minus'] = False \n",
    "sns.heatmap(corr,annot=True,vmax=1,square=True,cmap=\"Reds\")\n",
    "plt.title('HEATMAP')\n",
    "plt.show()"
   ]
  },
  {
   "cell_type": "markdown",
   "metadata": {},
   "source": [
    "## Building the LR model"
   ]
  },
  {
   "cell_type": "markdown",
   "metadata": {},
   "source": [
    "Split the data into the training and testing"
   ]
  },
  {
   "cell_type": "code",
   "execution_count": 53,
   "metadata": {},
   "outputs": [],
   "source": [
    "from sklearn.model_selection import train_test_split\n",
    "x_train,x_test,y_train,y_test = train_test_split(x,y,test_size = 0.3,random_state = 0)\n",
    "from sklearn.preprocessing import StandardScaler\n"
   ]
  },
  {
   "cell_type": "code",
   "execution_count": 54,
   "metadata": {},
   "outputs": [],
   "source": [
    "sc_x = StandardScaler()\n",
    "x_train = sc_x.fit_transform(x_train)\n",
    "x_test = sc_x.transform(x_test)"
   ]
  },
  {
   "cell_type": "markdown",
   "metadata": {},
   "source": [
    "Caculate the LR score "
   ]
  },
  {
   "cell_type": "code",
   "execution_count": 55,
   "metadata": {},
   "outputs": [
    {
     "name": "stdout",
     "output_type": "stream",
     "text": [
      "0.771329077190946\n"
     ]
    }
   ],
   "source": [
    "from sklearn.linear_model import LogisticRegression as LR\n",
    "lr = LR(class_weight='balanced') \n",
    "lr.fit(x_train,y_train)\n",
    "print(lr.score(x_train,y_train))"
   ]
  },
  {
   "cell_type": "markdown",
   "metadata": {},
   "source": [
    "Caculate the coef_ and intecept_ (the parameter of the LR function)"
   ]
  },
  {
   "cell_type": "code",
   "execution_count": 56,
   "metadata": {},
   "outputs": [
    {
     "name": "stdout",
     "output_type": "stream",
     "text": [
      "coef is: [[ 1.96562037 -0.40033744  0.26311066 -0.11144416  0.12436748  0.14642129\n",
      "  -0.19044807  0.16246274  0.17168365]]\n",
      "intercept is: [-0.16740411]\n"
     ]
    }
   ],
   "source": [
    "coef = lr.coef_\n",
    "intercept = lr.intercept_\n",
    "print('coef is:',coef)\n",
    "print('intercept is:',intercept)"
   ]
  },
  {
   "cell_type": "markdown",
   "metadata": {},
   "source": [
    "Use the test to verify the model and get the score"
   ]
  },
  {
   "cell_type": "code",
   "execution_count": 57,
   "metadata": {},
   "outputs": [
    {
     "name": "stdout",
     "output_type": "stream",
     "text": [
      "0.774018944519621\n"
     ]
    }
   ],
   "source": [
    "y_pred = lr.predict(x_test)\n",
    "print(lr.score(x_test,y_test))"
   ]
  },
  {
   "cell_type": "markdown",
   "metadata": {},
   "source": [
    "Show the socres of the model. While the precision for 0 is much higher, the precision for the value 1 is so much lower. I will use sevearal methods to increase the accuracy for value 1"
   ]
  },
  {
   "cell_type": "code",
   "execution_count": 58,
   "metadata": {},
   "outputs": [
    {
     "name": "stdout",
     "output_type": "stream",
     "text": [
      "              precision    recall  f1-score   support\n",
      "\n",
      "           0       0.90      0.79      0.84       558\n",
      "           1       0.53      0.72      0.61       181\n",
      "\n",
      "    accuracy                           0.77       739\n",
      "   macro avg       0.71      0.76      0.73       739\n",
      "weighted avg       0.81      0.77      0.78       739\n",
      "\n"
     ]
    }
   ],
   "source": [
    "from sklearn.metrics import classification_report\n",
    "print(classification_report(y_test, y_pred))"
   ]
  },
  {
   "cell_type": "markdown",
   "metadata": {},
   "source": [
    "## Showing the AUC"
   ]
  },
  {
   "cell_type": "code",
   "execution_count": 59,
   "metadata": {},
   "outputs": [
    {
     "data": {
      "image/png": "[encoded data removed]",
      "text/plain": [
       "<Figure size 432x288 with 1 Axes>"
      ]
     },
     "metadata": {},
     "output_type": "display_data"
    }
   ],
   "source": [
    "from sklearn import metrics\n",
    "y_score = lr.predict_proba(x_test)[:,1]\n",
    "\n",
    "fpr,tpr,threshold = metrics.roc_curve(y_test,y_score)\n",
    "roc_auc = metrics.auc(fpr,tpr)\n",
    "\n",
    "plt.plot(fpr,tpr,alpha = 0.5)\n",
    "# plt.stackplot(fpr,tpr,color = '',alpha = 0.5,edgecolor = 'black')\n",
    "plt.plot(fpr,tpr,color='black',lw = 1)\n",
    "\n",
    "plt.plot([0,1],[0,1],color = 'red',linestyle = '--')\n",
    "\n",
    "# plt.text(0.5,0.3,'ROC curve (area = %0.2f)'%roc_auc)\n",
    "plt.title(\"ROC curve of %s (AUC = %.4f)\" % ('Logistic',roc_auc))\n",
    "plt.xlabel('True Positive Rate')\n",
    "plt.ylabel('False Positive Rate')\n",
    "\n",
    "plt.show()"
   ]
  },
  {
   "cell_type": "markdown",
   "metadata": {},
   "source": [
    "As we can see in the AUC, the LR model did quite great jobs. However, the accuracy of the 1 value still bothers me"
   ]
  },
  {
   "cell_type": "markdown",
   "metadata": {},
   "source": [
    "## Down sampling algorithm"
   ]
  },
  {
   "cell_type": "code",
   "execution_count": 60,
   "metadata": {},
   "outputs": [
    {
     "data": {
      "text/html": [
       "<div>\n",
       "<style scoped>\n",
       "    .dataframe tbody tr th:only-of-type {\n",
       "        vertical-align: middle;\n",
       "    }\n",
       "\n",
       "    .dataframe tbody tr th {\n",
       "        vertical-align: top;\n",
       "    }\n",
       "\n",
       "    .dataframe thead th {\n",
       "        text-align: right;\n",
       "    }\n",
       "</style>\n",
       "<table border=\"1\" class=\"dataframe\">\n",
       "  <thead>\n",
       "    <tr style=\"text-align: right;\">\n",
       "      <th></th>\n",
       "      <th>comments</th>\n",
       "      <th>AFRAID</th>\n",
       "      <th>AMUSED</th>\n",
       "      <th>ANGRY</th>\n",
       "      <th>ANNOYED</th>\n",
       "      <th>DONT_CARE</th>\n",
       "      <th>HAPPY</th>\n",
       "      <th>INSPIRED</th>\n",
       "      <th>SAD</th>\n",
       "    </tr>\n",
       "    <tr>\n",
       "      <th>views</th>\n",
       "      <th></th>\n",
       "      <th></th>\n",
       "      <th></th>\n",
       "      <th></th>\n",
       "      <th></th>\n",
       "      <th></th>\n",
       "      <th></th>\n",
       "      <th></th>\n",
       "      <th></th>\n",
       "    </tr>\n",
       "  </thead>\n",
       "  <tbody>\n",
       "    <tr>\n",
       "      <th>0</th>\n",
       "      <td>1850</td>\n",
       "      <td>1850</td>\n",
       "      <td>1850</td>\n",
       "      <td>1850</td>\n",
       "      <td>1850</td>\n",
       "      <td>1850</td>\n",
       "      <td>1850</td>\n",
       "      <td>1850</td>\n",
       "      <td>1850</td>\n",
       "    </tr>\n",
       "    <tr>\n",
       "      <th>1</th>\n",
       "      <td>612</td>\n",
       "      <td>612</td>\n",
       "      <td>612</td>\n",
       "      <td>612</td>\n",
       "      <td>612</td>\n",
       "      <td>612</td>\n",
       "      <td>612</td>\n",
       "      <td>612</td>\n",
       "      <td>612</td>\n",
       "    </tr>\n",
       "  </tbody>\n",
       "</table>\n",
       "</div>"
      ],
      "text/plain": [
       "       comments  AFRAID  AMUSED  ANGRY  ANNOYED  DONT_CARE  HAPPY  INSPIRED  \\\n",
       "views                                                                         \n",
       "0          1850    1850    1850   1850     1850       1850   1850      1850   \n",
       "1           612     612     612    612      612        612    612       612   \n",
       "\n",
       "        SAD  \n",
       "views        \n",
       "0      1850  \n",
       "1       612  "
      ]
     },
     "execution_count": 60,
     "metadata": {},
     "output_type": "execute_result"
    }
   ],
   "source": [
    "from imblearn.under_sampling import RandomUnderSampler  \n",
    "df.groupby('views').count()"
   ]
  },
  {
   "cell_type": "markdown",
   "metadata": {},
   "source": [
    "I chose random date from 0 value and made the sum equal to 1 value and get the new dataset. In the new dataset the sum of 1 and 0 are both 612"
   ]
  },
  {
   "cell_type": "code",
   "execution_count": 61,
   "metadata": {},
   "outputs": [
    {
     "name": "stdout",
     "output_type": "stream",
     "text": [
      "       comments  AFRAID  AMUSED  ANGRY  ANNOYED  DONT_CARE  HAPPY  INSPIRED  \\\n",
      "views                                                                         \n",
      "0           612     612     612    612      612        612    612       612   \n",
      "1           612     612     612    612      612        612    612       612   \n",
      "\n",
      "       SAD  \n",
      "views       \n",
      "0      612  \n",
      "1      612  \n"
     ]
    }
   ],
   "source": [
    "model_RandomUnderSampler = RandomUnderSampler() \n",
    "x_rus,y_rus = model_RandomUnderSampler.fit_sample(x,y)\n",
    "RandomUnderSampler_resampled = pd.concat([x_rus, y_rus],axis=1)\n",
    "groupby_data_RandomUnderSampler = RandomUnderSampler_resampled.groupby('views').count()\n",
    "print(groupby_data_RandomUnderSampler)"
   ]
  },
  {
   "cell_type": "markdown",
   "metadata": {},
   "source": [
    "## Building the LR model based on the new dateset"
   ]
  },
  {
   "cell_type": "code",
   "execution_count": 63,
   "metadata": {},
   "outputs": [],
   "source": [
    "rus_df = RandomUnderSampler_resampled\n",
    "y = rus_df.iloc[:,9]\n",
    "x = rus_df.iloc[:,:9]"
   ]
  },
  {
   "cell_type": "code",
   "execution_count": 65,
   "metadata": {},
   "outputs": [],
   "source": [
    "from sklearn.model_selection import train_test_split\n",
    "x_train,x_test,y_train,y_test = train_test_split(x,y,test_size = 0.3,random_state = 0)\n",
    "from sklearn.preprocessing import StandardScaler\n",
    "sc_x = StandardScaler()\n",
    "x_train = sc_x.fit_transform(x_train)\n",
    "x_test = sc_x.transform(x_test)"
   ]
  },
  {
   "cell_type": "markdown",
   "metadata": {},
   "source": [
    "Caculate the score"
   ]
  },
  {
   "cell_type": "code",
   "execution_count": 67,
   "metadata": {},
   "outputs": [
    {
     "name": "stdout",
     "output_type": "stream",
     "text": [
      "0.7429906542056075\n"
     ]
    }
   ],
   "source": [
    "from sklearn.linear_model import LogisticRegression as LR\n",
    "lr = LR() \n",
    "lr.fit(x_train,y_train)\n",
    "print(lr.score(x_train,y_train))"
   ]
  },
  {
   "cell_type": "code",
   "execution_count": 68,
   "metadata": {},
   "outputs": [
    {
     "name": "stdout",
     "output_type": "stream",
     "text": [
      "coef is: [[ 2.52474168 -0.34723497  0.23255402 -0.14622537  0.26832697  0.14428041\n",
      "  -0.17137811  0.21908184 -0.03935611]]\n",
      "intercept is: [0.25560812]\n"
     ]
    }
   ],
   "source": [
    "coef = lr.coef_\n",
    "intercept = lr.intercept_\n",
    "print('coef is:',coef)\n",
    "print('intercept is:',intercept)"
   ]
  },
  {
   "cell_type": "code",
   "execution_count": 69,
   "metadata": {},
   "outputs": [
    {
     "name": "stdout",
     "output_type": "stream",
     "text": [
      "0.720108695652174\n"
     ]
    }
   ],
   "source": [
    "y_pred = lr.predict(x_test)\n",
    "print(lr.score(x_test,y_test))"
   ]
  },
  {
   "cell_type": "markdown",
   "metadata": {},
   "source": [
    "Get the score from the score"
   ]
  },
  {
   "cell_type": "code",
   "execution_count": 70,
   "metadata": {},
   "outputs": [
    {
     "name": "stdout",
     "output_type": "stream",
     "text": [
      "              precision    recall  f1-score   support\n",
      "\n",
      "           0       0.68      0.77      0.72       173\n",
      "           1       0.77      0.68      0.72       195\n",
      "\n",
      "    accuracy                           0.72       368\n",
      "   macro avg       0.72      0.72      0.72       368\n",
      "weighted avg       0.73      0.72      0.72       368\n",
      "\n"
     ]
    }
   ],
   "source": [
    "from sklearn.metrics import classification_report\n",
    "print(classification_report(y_test, y_pred))"
   ]
  },
  {
   "cell_type": "markdown",
   "metadata": {},
   "source": [
    "## Showing the new AUC"
   ]
  },
  {
   "cell_type": "code",
   "execution_count": 71,
   "metadata": {},
   "outputs": [
    {
     "data": {
      "text/plain": [
       "Text(0, 0.5, 'False Positive Rate')"
      ]
     },
     "execution_count": 71,
     "metadata": {},
     "output_type": "execute_result"
    },
    {
     "data": {
      "image/png": "[encoded data removed]",
      "text/plain": [
       "<Figure size 432x288 with 1 Axes>"
      ]
     },
     "metadata": {},
     "output_type": "display_data"
    }
   ],
   "source": [
    "y_score = lr.predict_proba(x_test)[:,1]\n",
    "fpr,tpr,threshold = metrics.roc_curve(y_test,y_score)\n",
    "roc_auc = metrics.auc(fpr,tpr)\n",
    "\n",
    "plt.plot(fpr,tpr,alpha = 0.5)\n",
    "# plt.stackplot(fpr,tpr,color = '',alpha = 0.5,edgecolor = 'black')\n",
    "plt.plot(fpr,tpr,color='black',lw = 1)\n",
    "\n",
    "plt.plot([0,1],[0,1],color = 'red',linestyle = '--')\n",
    "\n",
    "# plt.text(0.5,0.3,'ROC curve (area = %0.2f)'%roc_auc)\n",
    "plt.title(\"ROC curve of %s (AUC = %.4f)\" % ('Logistic',roc_auc))\n",
    "plt.xlabel('True Positive Rate')\n",
    "plt.ylabel('False Positive Rate')"
   ]
  },
  {
   "cell_type": "markdown",
   "metadata": {},
   "source": [
    "## K-fold verification"
   ]
  },
  {
   "cell_type": "code",
   "execution_count": 72,
   "metadata": {},
   "outputs": [
    {
     "data": {
      "text/plain": [
       "0.7271241830065359"
      ]
     },
     "execution_count": 72,
     "metadata": {},
     "output_type": "execute_result"
    }
   ],
   "source": [
    "from sklearn.model_selection import cross_val_score\n",
    "cross_val_score(lr,x,y,cv=8,scoring='accuracy').mean()"
   ]
  },
  {
   "cell_type": "markdown",
   "metadata": {},
   "source": [
    "## Conclusion "
   ]
  },
  {
   "cell_type": "markdown",
   "metadata": {},
   "source": [
    "After down sampling the AUC score get a little wave, the precision for both 0 and 1 are more accurately and more balance. LR model need the sample to be balace. It will improve the accuracy. So I think the model after down sampling is more comprehensive"
   ]
  },
  {
   "cell_type": "markdown",
   "metadata": {},
   "source": [
    "# M2: Data without comments"
   ]
  },
  {
   "cell_type": "markdown",
   "metadata": {},
   "source": [
    "The code are quite similar from the above. So I just show the codes here and I will analyse the conclusion at the bottom "
   ]
  },
  {
   "cell_type": "markdown",
   "metadata": {},
   "source": [
    "## Droping the comments"
   ]
  },
  {
   "cell_type": "code",
   "execution_count": null,
   "metadata": {},
   "outputs": [],
   "source": [
    "df = df.drop(['comments'],axis=1)\n",
    "df"
   ]
  },
  {
   "cell_type": "code",
   "execution_count": 75,
   "metadata": {},
   "outputs": [
    {
     "data": {
      "text/plain": [
       "612"
      ]
     },
     "execution_count": 75,
     "metadata": {},
     "output_type": "execute_result"
    }
   ],
   "source": [
    "y = df.iloc[:,0]\n",
    "x = df.iloc[:,1:]\n",
    "y.sum()"
   ]
  },
  {
   "cell_type": "code",
   "execution_count": 77,
   "metadata": {},
   "outputs": [
    {
     "data": {
      "image/png": "[encoded data removed]",
      "text/plain": [
       "<Figure size 576x576 with 2 Axes>"
      ]
     },
     "metadata": {},
     "output_type": "display_data"
    }
   ],
   "source": [
    "corr = df.corr(method = 'pearson')\n",
    "corr\n",
    "plt.subplots(figsize=(8,8)) \n",
    "plt.rcParams['axes.unicode_minus'] = False \n",
    "sns.heatmap(corr,annot=True,vmax=1,square=True,cmap=\"Reds\")\n",
    "plt.title('pictuer')\n",
    "plt.show()"
   ]
  },
  {
   "cell_type": "code",
   "execution_count": 79,
   "metadata": {},
   "outputs": [],
   "source": [
    "from sklearn.model_selection import train_test_split\n",
    "x_train,x_test,y_train,y_test = train_test_split(x,y,test_size = 0.3,random_state = 0)\n",
    "from sklearn.preprocessing import StandardScaler\n",
    "sc_x = StandardScaler()\n",
    "x_train = sc_x.fit_transform(x_train)\n",
    "x_test = sc_x.transform(x_test)"
   ]
  },
  {
   "cell_type": "code",
   "execution_count": 80,
   "metadata": {},
   "outputs": [
    {
     "name": "stdout",
     "output_type": "stream",
     "text": [
      "0.6105629715612304\n"
     ]
    }
   ],
   "source": [
    "from sklearn.linear_model import LogisticRegression as LR\n",
    "lr = LR(class_weight='balanced') \n",
    "lr.fit(x_train,y_train)\n",
    "print(lr.score(x_train,y_train))"
   ]
  },
  {
   "cell_type": "code",
   "execution_count": 81,
   "metadata": {},
   "outputs": [
    {
     "name": "stdout",
     "output_type": "stream",
     "text": [
      "coef is: [[-0.36917031  0.23705237 -0.13124196  0.23782904  0.11474558 -0.34274838\n",
      "   0.21328207  0.15361417]]\n",
      "intercept is: [-0.11194321]\n"
     ]
    }
   ],
   "source": [
    "coef = lr.coef_\n",
    "intercept = lr.intercept_\n",
    "print('coef is:',coef)\n",
    "print('intercept is:',intercept)"
   ]
  },
  {
   "cell_type": "code",
   "execution_count": 82,
   "metadata": {},
   "outputs": [
    {
     "name": "stdout",
     "output_type": "stream",
     "text": [
      "0.5953991880920162\n"
     ]
    }
   ],
   "source": [
    "y_pred = lr.predict(x_test)\n",
    "print(lr.score(x_test,y_test))"
   ]
  },
  {
   "cell_type": "code",
   "execution_count": 83,
   "metadata": {},
   "outputs": [
    {
     "name": "stdout",
     "output_type": "stream",
     "text": [
      "              precision    recall  f1-score   support\n",
      "\n",
      "           0       0.82      0.59      0.69       558\n",
      "           1       0.32      0.60      0.42       181\n",
      "\n",
      "    accuracy                           0.60       739\n",
      "   macro avg       0.57      0.60      0.56       739\n",
      "weighted avg       0.70      0.60      0.62       739\n",
      "\n"
     ]
    }
   ],
   "source": [
    "from sklearn.metrics import classification_report\n",
    "print(classification_report(y_test, y_pred))"
   ]
  },
  {
   "cell_type": "code",
   "execution_count": 84,
   "metadata": {},
   "outputs": [
    {
     "data": {
      "image/png": "[encoded data removed]",
      "text/plain": [
       "<Figure size 432x288 with 1 Axes>"
      ]
     },
     "metadata": {},
     "output_type": "display_data"
    }
   ],
   "source": [
    "from sklearn import metrics\n",
    "y_score = lr.predict_proba(x_test)[:,1]\n",
    "\n",
    "fpr,tpr,threshold = metrics.roc_curve(y_test,y_score)\n",
    "roc_auc = metrics.auc(fpr,tpr)\n",
    "\n",
    "plt.plot(fpr,tpr,alpha = 0.5)\n",
    "# plt.stackplot(fpr,tpr,color = '',alpha = 0.5,edgecolor = 'black')\n",
    "plt.plot(fpr,tpr,color='black',lw = 1)\n",
    "\n",
    "plt.plot([0,1],[0,1],color = 'red',linestyle = '--')\n",
    "\n",
    "# plt.text(0.5,0.3,'ROC curve (area = %0.2f)'%roc_auc)\n",
    "plt.title(\"ROC curve of %s (AUC = %.4f)\" % ('Logistic',roc_auc))\n",
    "plt.xlabel('True Positive Rate')\n",
    "plt.ylabel('False Positive Rate')\n",
    "\n",
    "plt.show()"
   ]
  },
  {
   "cell_type": "code",
   "execution_count": 85,
   "metadata": {},
   "outputs": [
    {
     "data": {
      "text/html": [
       "<div>\n",
       "<style scoped>\n",
       "    .dataframe tbody tr th:only-of-type {\n",
       "        vertical-align: middle;\n",
       "    }\n",
       "\n",
       "    .dataframe tbody tr th {\n",
       "        vertical-align: top;\n",
       "    }\n",
       "\n",
       "    .dataframe thead th {\n",
       "        text-align: right;\n",
       "    }\n",
       "</style>\n",
       "<table border=\"1\" class=\"dataframe\">\n",
       "  <thead>\n",
       "    <tr style=\"text-align: right;\">\n",
       "      <th></th>\n",
       "      <th>AFRAID</th>\n",
       "      <th>AMUSED</th>\n",
       "      <th>ANGRY</th>\n",
       "      <th>ANNOYED</th>\n",
       "      <th>DONT_CARE</th>\n",
       "      <th>HAPPY</th>\n",
       "      <th>INSPIRED</th>\n",
       "      <th>SAD</th>\n",
       "    </tr>\n",
       "    <tr>\n",
       "      <th>views</th>\n",
       "      <th></th>\n",
       "      <th></th>\n",
       "      <th></th>\n",
       "      <th></th>\n",
       "      <th></th>\n",
       "      <th></th>\n",
       "      <th></th>\n",
       "      <th></th>\n",
       "    </tr>\n",
       "  </thead>\n",
       "  <tbody>\n",
       "    <tr>\n",
       "      <th>0</th>\n",
       "      <td>1850</td>\n",
       "      <td>1850</td>\n",
       "      <td>1850</td>\n",
       "      <td>1850</td>\n",
       "      <td>1850</td>\n",
       "      <td>1850</td>\n",
       "      <td>1850</td>\n",
       "      <td>1850</td>\n",
       "    </tr>\n",
       "    <tr>\n",
       "      <th>1</th>\n",
       "      <td>612</td>\n",
       "      <td>612</td>\n",
       "      <td>612</td>\n",
       "      <td>612</td>\n",
       "      <td>612</td>\n",
       "      <td>612</td>\n",
       "      <td>612</td>\n",
       "      <td>612</td>\n",
       "    </tr>\n",
       "  </tbody>\n",
       "</table>\n",
       "</div>"
      ],
      "text/plain": [
       "       AFRAID  AMUSED  ANGRY  ANNOYED  DONT_CARE  HAPPY  INSPIRED   SAD\n",
       "views                                                                  \n",
       "0        1850    1850   1850     1850       1850   1850      1850  1850\n",
       "1         612     612    612      612        612    612       612   612"
      ]
     },
     "execution_count": 85,
     "metadata": {},
     "output_type": "execute_result"
    }
   ],
   "source": [
    "from imblearn.under_sampling import RandomUnderSampler  # 欠抽样处理库RandomUnderSampler\n",
    "df.groupby('views').count()"
   ]
  },
  {
   "cell_type": "code",
   "execution_count": 86,
   "metadata": {},
   "outputs": [
    {
     "name": "stdout",
     "output_type": "stream",
     "text": [
      "       AFRAID  AMUSED  ANGRY  ANNOYED  DONT_CARE  HAPPY  INSPIRED  SAD\n",
      "views                                                                 \n",
      "0         612     612    612      612        612    612       612  612\n",
      "1         612     612    612      612        612    612       612  612\n"
     ]
    }
   ],
   "source": [
    "model_RandomUnderSampler = RandomUnderSampler() #创建RandomUnderSampler模型对象\n",
    "x_rus,y_rus = model_RandomUnderSampler.fit_sample(x,y)\n",
    "RandomUnderSampler_resampled = pd.concat([x_rus, y_rus],axis=1)\n",
    "groupby_data_RandomUnderSampler = RandomUnderSampler_resampled.groupby('views').count()\n",
    "print(groupby_data_RandomUnderSampler)"
   ]
  },
  {
   "cell_type": "code",
   "execution_count": 88,
   "metadata": {},
   "outputs": [],
   "source": [
    "rus_df = RandomUnderSampler_resampled\n",
    "y = rus_df.iloc[:,8]\n",
    "x = rus_df.iloc[:,:8]"
   ]
  },
  {
   "cell_type": "code",
   "execution_count": 89,
   "metadata": {},
   "outputs": [],
   "source": [
    "from sklearn.model_selection import train_test_split\n",
    "x_train,x_test,y_train,y_test = train_test_split(x,y,test_size = 0.3,random_state = 0)\n",
    "from sklearn.preprocessing import StandardScaler\n",
    "sc_x = StandardScaler()\n",
    "x_train = sc_x.fit_transform(x_train)\n",
    "x_test = sc_x.transform(x_test)"
   ]
  },
  {
   "cell_type": "code",
   "execution_count": 90,
   "metadata": {},
   "outputs": [
    {
     "name": "stdout",
     "output_type": "stream",
     "text": [
      "0.6191588785046729\n"
     ]
    }
   ],
   "source": [
    "from sklearn.linear_model import LogisticRegression as LR\n",
    "lr = LR() #无设置分类权重\n",
    "lr.fit(x_train,y_train)\n",
    "print(lr.score(x_train,y_train))"
   ]
  },
  {
   "cell_type": "code",
   "execution_count": 91,
   "metadata": {},
   "outputs": [
    {
     "name": "stdout",
     "output_type": "stream",
     "text": [
      "coef is: [[-0.33362177  0.19877696 -0.30195182  0.38825974  0.01519347 -0.24314477\n",
      "   0.24508615  0.16546308]]\n",
      "intercept is: [-0.07282315]\n"
     ]
    }
   ],
   "source": [
    "coef = lr.coef_\n",
    "intercept = lr.intercept_\n",
    "print('coef is:',coef)\n",
    "print('intercept is:',intercept)"
   ]
  },
  {
   "cell_type": "code",
   "execution_count": 92,
   "metadata": {},
   "outputs": [
    {
     "name": "stdout",
     "output_type": "stream",
     "text": [
      "0.6195652173913043\n"
     ]
    }
   ],
   "source": [
    "y_pred = lr.predict(x_test)\n",
    "print(lr.score(x_test,y_test))"
   ]
  },
  {
   "cell_type": "code",
   "execution_count": 93,
   "metadata": {},
   "outputs": [
    {
     "name": "stdout",
     "output_type": "stream",
     "text": [
      "              precision    recall  f1-score   support\n",
      "\n",
      "           0       0.59      0.65      0.62       173\n",
      "           1       0.66      0.59      0.62       195\n",
      "\n",
      "    accuracy                           0.62       368\n",
      "   macro avg       0.62      0.62      0.62       368\n",
      "weighted avg       0.62      0.62      0.62       368\n",
      "\n"
     ]
    }
   ],
   "source": [
    "from sklearn.metrics import classification_report\n",
    "print(classification_report(y_test, y_pred))"
   ]
  },
  {
   "cell_type": "code",
   "execution_count": 106,
   "metadata": {},
   "outputs": [
    {
     "data": {
      "text/plain": [
       "Text(0, 0.5, 'False Positive Rate')"
      ]
     },
     "execution_count": 106,
     "metadata": {},
     "output_type": "execute_result"
    },
    {
     "data": {
      "image/png": "[encoded data removed]",
      "text/plain": [
       "<Figure size 432x288 with 1 Axes>"
      ]
     },
     "metadata": {},
     "output_type": "display_data"
    }
   ],
   "source": [
    "y_score = lr.predict_proba(x_test)[:,1]\n",
    "fpr,tpr,threshold = metrics.roc_curve(y_test,y_score)\n",
    "roc_auc = metrics.auc(fpr,tpr)\n",
    "\n",
    "plt.plot(fpr,tpr,alpha = 0.5)\n",
    "# plt.stackplot(fpr,tpr,color = '',alpha = 0.5,edgecolor = 'black')\n",
    "plt.plot(fpr,tpr,color='black',lw = 1)\n",
    "\n",
    "plt.plot([0,1],[0,1],color = 'red',linestyle = '--')\n",
    "\n",
    "# plt.text(0.5,0.3,'ROC curve (area = %0.2f)'%roc_auc)\n",
    "plt.title(\"ROC curve of %s (AUC = %.4f)\" % ('Logistic',roc_auc))\n",
    "plt.xlabel('True Positive Rate')\n",
    "plt.ylabel('False Positive Rate')"
   ]
  },
  {
   "cell_type": "code",
   "execution_count": 95,
   "metadata": {},
   "outputs": [
    {
     "data": {
      "text/plain": [
       "0.6053921568627452"
      ]
     },
     "execution_count": 95,
     "metadata": {},
     "output_type": "execute_result"
    }
   ],
   "source": [
    "from sklearn.model_selection import cross_val_score\n",
    "cross_val_score(lr,x,y,cv=8,scoring='accuracy').mean()"
   ]
  },
  {
   "cell_type": "markdown",
   "metadata": {},
   "source": [
    "# Conclusion for M1 and M2"
   ]
  },
  {
   "cell_type": "markdown",
   "metadata": {},
   "source": [
    "From the both models above we can see that positive emotion like happy, inspired really help the popularity of Ted talk, and the negative emotion like sad and afraid are negative  relate to the popularity. With the comments, the model will be more accurate. So I believe with the comments number will better to predict the popularity of the ted talks"
   ]
  }
 ],
 "metadata": {
  "kernelspec": {
   "display_name": "Python 3 (ipykernel)",
   "language": "python",
   "name": "python3"
  },
  "language_info": {
   "codemirror_mode": {
    "name": "ipython",
    "version": 3
   },
   "file_extension": ".py",
   "mimetype": "text/x-python",
   "name": "python",
   "nbconvert_exporter": "python",
   "pygments_lexer": "ipython3",
   "version": "3.8.8"
  }
 },
 "nbformat": 4,
 "nbformat_minor": 4
}
