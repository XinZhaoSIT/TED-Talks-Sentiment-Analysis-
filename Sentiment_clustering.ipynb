{
 "cells": [
  {
   "cell_type": "code",
   "execution_count": 136,
   "metadata": {},
   "outputs": [],
   "source": [
    "import numpy as np\n",
    "import pandas as pd\n",
    "import matplotlib.pyplot as plt\n",
    "import seaborn as sns\n",
    "from sklearn.feature_extraction.text import TfidfVectorizer\n",
    "from sklearn.naive_bayes import MultinomialNB\n",
    "from sklearn.model_selection import train_test_split\n",
    "from sklearn.metrics import precision_recall_fscore_support\n",
    "from sklearn.metrics import classification_report\n",
    "import fastdtw\n",
    "from scipy.spatial.distance import euclidean\n",
    "from nltk.cluster import KMeansClusterer,cosine_distance\n",
    "import scipy.spatial.distance as sd\n",
    "from sklearn.cluster import KMeans\n",
    "from sklearn import metrics\n",
    "from sklearn.decomposition import PCA\n",
    "from sklearn import mixture\n",
    "from sklearn import manifold\n",
    "from sklearn.preprocessing import StandardScaler"
   ]
  },
  {
   "cell_type": "code",
   "execution_count": 43,
   "metadata": {},
   "outputs": [
    {
     "data": {
      "text/html": [
       "<div>\n",
       "<style scoped>\n",
       "    .dataframe tbody tr th:only-of-type {\n",
       "        vertical-align: middle;\n",
       "    }\n",
       "\n",
       "    .dataframe tbody tr th {\n",
       "        vertical-align: top;\n",
       "    }\n",
       "\n",
       "    .dataframe thead th {\n",
       "        text-align: right;\n",
       "    }\n",
       "</style>\n",
       "<table border=\"1\" class=\"dataframe\">\n",
       "  <thead>\n",
       "    <tr style=\"text-align: right;\">\n",
       "      <th></th>\n",
       "      <th>AFRAID</th>\n",
       "      <th>AMUSED</th>\n",
       "      <th>ANGRY</th>\n",
       "      <th>ANNOYED</th>\n",
       "      <th>DONT_CARE</th>\n",
       "      <th>HAPPY</th>\n",
       "      <th>INSPIRED</th>\n",
       "      <th>SAD</th>\n",
       "    </tr>\n",
       "  </thead>\n",
       "  <tbody>\n",
       "    <tr>\n",
       "      <th>0</th>\n",
       "      <td>0.092794</td>\n",
       "      <td>0.114177</td>\n",
       "      <td>0.116472</td>\n",
       "      <td>0.132365</td>\n",
       "      <td>0.129963</td>\n",
       "      <td>0.105839</td>\n",
       "      <td>0.201247</td>\n",
       "      <td>0.107143</td>\n",
       "    </tr>\n",
       "    <tr>\n",
       "      <th>1</th>\n",
       "      <td>0.108238</td>\n",
       "      <td>0.111975</td>\n",
       "      <td>0.121799</td>\n",
       "      <td>0.134885</td>\n",
       "      <td>0.129981</td>\n",
       "      <td>0.107100</td>\n",
       "      <td>0.178588</td>\n",
       "      <td>0.107434</td>\n",
       "    </tr>\n",
       "    <tr>\n",
       "      <th>2</th>\n",
       "      <td>0.093672</td>\n",
       "      <td>0.123894</td>\n",
       "      <td>0.115410</td>\n",
       "      <td>0.138560</td>\n",
       "      <td>0.138518</td>\n",
       "      <td>0.108802</td>\n",
       "      <td>0.179580</td>\n",
       "      <td>0.101564</td>\n",
       "    </tr>\n",
       "    <tr>\n",
       "      <th>3</th>\n",
       "      <td>0.105926</td>\n",
       "      <td>0.106197</td>\n",
       "      <td>0.128772</td>\n",
       "      <td>0.134356</td>\n",
       "      <td>0.121305</td>\n",
       "      <td>0.108597</td>\n",
       "      <td>0.182394</td>\n",
       "      <td>0.112452</td>\n",
       "    </tr>\n",
       "    <tr>\n",
       "      <th>4</th>\n",
       "      <td>0.108617</td>\n",
       "      <td>0.112215</td>\n",
       "      <td>0.118959</td>\n",
       "      <td>0.129735</td>\n",
       "      <td>0.126809</td>\n",
       "      <td>0.107173</td>\n",
       "      <td>0.184243</td>\n",
       "      <td>0.112248</td>\n",
       "    </tr>\n",
       "    <tr>\n",
       "      <th>...</th>\n",
       "      <td>...</td>\n",
       "      <td>...</td>\n",
       "      <td>...</td>\n",
       "      <td>...</td>\n",
       "      <td>...</td>\n",
       "      <td>...</td>\n",
       "      <td>...</td>\n",
       "      <td>...</td>\n",
       "    </tr>\n",
       "    <tr>\n",
       "      <th>2462</th>\n",
       "      <td>0.102343</td>\n",
       "      <td>0.108939</td>\n",
       "      <td>0.131899</td>\n",
       "      <td>0.138636</td>\n",
       "      <td>0.126494</td>\n",
       "      <td>0.101510</td>\n",
       "      <td>0.174694</td>\n",
       "      <td>0.115485</td>\n",
       "    </tr>\n",
       "    <tr>\n",
       "      <th>2463</th>\n",
       "      <td>0.120188</td>\n",
       "      <td>0.119194</td>\n",
       "      <td>0.114707</td>\n",
       "      <td>0.126044</td>\n",
       "      <td>0.117753</td>\n",
       "      <td>0.104346</td>\n",
       "      <td>0.175029</td>\n",
       "      <td>0.122739</td>\n",
       "    </tr>\n",
       "    <tr>\n",
       "      <th>2464</th>\n",
       "      <td>0.097120</td>\n",
       "      <td>0.131195</td>\n",
       "      <td>0.119608</td>\n",
       "      <td>0.129501</td>\n",
       "      <td>0.123598</td>\n",
       "      <td>0.106018</td>\n",
       "      <td>0.193803</td>\n",
       "      <td>0.099157</td>\n",
       "    </tr>\n",
       "    <tr>\n",
       "      <th>2465</th>\n",
       "      <td>0.094750</td>\n",
       "      <td>0.117907</td>\n",
       "      <td>0.122510</td>\n",
       "      <td>0.136626</td>\n",
       "      <td>0.131677</td>\n",
       "      <td>0.101304</td>\n",
       "      <td>0.191245</td>\n",
       "      <td>0.103982</td>\n",
       "    </tr>\n",
       "    <tr>\n",
       "      <th>2466</th>\n",
       "      <td>0.099718</td>\n",
       "      <td>0.114283</td>\n",
       "      <td>0.115306</td>\n",
       "      <td>0.133201</td>\n",
       "      <td>0.128464</td>\n",
       "      <td>0.111701</td>\n",
       "      <td>0.191686</td>\n",
       "      <td>0.105641</td>\n",
       "    </tr>\n",
       "  </tbody>\n",
       "</table>\n",
       "<p>2462 rows × 8 columns</p>\n",
       "</div>"
      ],
      "text/plain": [
       "        AFRAID    AMUSED     ANGRY   ANNOYED  DONT_CARE     HAPPY  INSPIRED  \\\n",
       "0     0.092794  0.114177  0.116472  0.132365   0.129963  0.105839  0.201247   \n",
       "1     0.108238  0.111975  0.121799  0.134885   0.129981  0.107100  0.178588   \n",
       "2     0.093672  0.123894  0.115410  0.138560   0.138518  0.108802  0.179580   \n",
       "3     0.105926  0.106197  0.128772  0.134356   0.121305  0.108597  0.182394   \n",
       "4     0.108617  0.112215  0.118959  0.129735   0.126809  0.107173  0.184243   \n",
       "...        ...       ...       ...       ...        ...       ...       ...   \n",
       "2462  0.102343  0.108939  0.131899  0.138636   0.126494  0.101510  0.174694   \n",
       "2463  0.120188  0.119194  0.114707  0.126044   0.117753  0.104346  0.175029   \n",
       "2464  0.097120  0.131195  0.119608  0.129501   0.123598  0.106018  0.193803   \n",
       "2465  0.094750  0.117907  0.122510  0.136626   0.131677  0.101304  0.191245   \n",
       "2466  0.099718  0.114283  0.115306  0.133201   0.128464  0.111701  0.191686   \n",
       "\n",
       "           SAD  \n",
       "0     0.107143  \n",
       "1     0.107434  \n",
       "2     0.101564  \n",
       "3     0.112452  \n",
       "4     0.112248  \n",
       "...        ...  \n",
       "2462  0.115485  \n",
       "2463  0.122739  \n",
       "2464  0.099157  \n",
       "2465  0.103982  \n",
       "2466  0.105641  \n",
       "\n",
       "[2462 rows x 8 columns]"
      ]
     },
     "execution_count": 43,
     "metadata": {},
     "output_type": "execute_result"
    }
   ],
   "source": [
    "data = pd.read_csv('sentiment_score.csv')\n",
    "data = data.dropna()\n",
    "data"
   ]
  },
  {
   "cell_type": "code",
   "execution_count": 112,
   "metadata": {},
   "outputs": [
    {
     "data": {
      "text/plain": [
       "3029491"
      ]
     },
     "execution_count": 112,
     "metadata": {},
     "output_type": "execute_result"
    }
   ],
   "source": [
    "distance_matrix = []\n",
    "m = len(data)    \n",
    "for i in range(0, m - 1):\n",
    "    for j in range(i + 1, m):\n",
    "        distance, path = fastdtw.fastdtw(data.iloc[i,:], data.iloc[j,:],dist=euclidean)\n",
    "        distance_matrix.append(distance)\n",
    "len(distance_matrix)"
   ]
  },
  {
   "cell_type": "code",
   "execution_count": 114,
   "metadata": {},
   "outputs": [
    {
     "data": {
      "text/plain": [
       "3029491"
      ]
     },
     "execution_count": 114,
     "metadata": {},
     "output_type": "execute_result"
    }
   ],
   "source": [
    "len(distance_matrix)"
   ]
  },
  {
   "cell_type": "code",
   "execution_count": 115,
   "metadata": {},
   "outputs": [
    {
     "data": {
      "text/plain": [
       "(3029491, 1)"
      ]
     },
     "execution_count": 115,
     "metadata": {},
     "output_type": "execute_result"
    }
   ],
   "source": [
    "dtm = np.array(distance_matrix)\n",
    "dtm = np.expand_dims(dtm,axis=1)\n",
    "dtm.shape"
   ]
  },
  {
   "cell_type": "code",
   "execution_count": 48,
   "metadata": {},
   "outputs": [],
   "source": [
    "train, test = train_test_split(data, test_size=0.2, random_state=0)"
   ]
  },
  {
   "cell_type": "markdown",
   "metadata": {},
   "source": [
    "### Model 1: Kmeans"
   ]
  },
  {
   "cell_type": "code",
   "execution_count": 116,
   "metadata": {},
   "outputs": [],
   "source": [
    "num_clusters = 8\n",
    "\n",
    "km = KMeans(n_clusters=num_clusters, n_init=20, random_state = 42).fit(dtm)\n",
    "clusters = km.labels_.tolist()"
   ]
  },
  {
   "cell_type": "code",
   "execution_count": 125,
   "metadata": {},
   "outputs": [
    {
     "data": {
      "text/html": [
       "<div>\n",
       "<style scoped>\n",
       "    .dataframe tbody tr th:only-of-type {\n",
       "        vertical-align: middle;\n",
       "    }\n",
       "\n",
       "    .dataframe tbody tr th {\n",
       "        vertical-align: top;\n",
       "    }\n",
       "\n",
       "    .dataframe thead th {\n",
       "        text-align: right;\n",
       "    }\n",
       "</style>\n",
       "<table border=\"1\" class=\"dataframe\">\n",
       "  <thead>\n",
       "    <tr style=\"text-align: right;\">\n",
       "      <th></th>\n",
       "      <th>km_sentiment_cluster</th>\n",
       "    </tr>\n",
       "  </thead>\n",
       "  <tbody>\n",
       "    <tr>\n",
       "      <th>0</th>\n",
       "      <td>2</td>\n",
       "    </tr>\n",
       "    <tr>\n",
       "      <th>1</th>\n",
       "      <td>0</td>\n",
       "    </tr>\n",
       "    <tr>\n",
       "      <th>2</th>\n",
       "      <td>6</td>\n",
       "    </tr>\n",
       "    <tr>\n",
       "      <th>3</th>\n",
       "      <td>2</td>\n",
       "    </tr>\n",
       "    <tr>\n",
       "      <th>4</th>\n",
       "      <td>7</td>\n",
       "    </tr>\n",
       "  </tbody>\n",
       "</table>\n",
       "</div>"
      ],
      "text/plain": [
       "   km_sentiment_cluster\n",
       "0                     2\n",
       "1                     0\n",
       "2                     6\n",
       "3                     2\n",
       "4                     7"
      ]
     },
     "execution_count": 125,
     "metadata": {},
     "output_type": "execute_result"
    }
   ],
   "source": [
    "km_cluster = pd.DataFrame(data=clusters,columns=['km_sentiment_cluster'])\n",
    "km_cluster[0:5]"
   ]
  },
  {
   "cell_type": "code",
   "execution_count": 127,
   "metadata": {},
   "outputs": [
    {
     "data": {
      "text/plain": [
       "(3029491, 1)"
      ]
     },
     "execution_count": 127,
     "metadata": {},
     "output_type": "execute_result"
    }
   ],
   "source": [
    "km_cluster.shape"
   ]
  },
  {
   "cell_type": "code",
   "execution_count": 126,
   "metadata": {},
   "outputs": [],
   "source": [
    "km_cluster.to_csv('km_cluster.csv',index=False)"
   ]
  },
  {
   "cell_type": "code",
   "execution_count": 128,
   "metadata": {},
   "outputs": [
    {
     "data": {
      "text/html": [
       "<div>\n",
       "<style scoped>\n",
       "    .dataframe tbody tr th:only-of-type {\n",
       "        vertical-align: middle;\n",
       "    }\n",
       "\n",
       "    .dataframe tbody tr th {\n",
       "        vertical-align: top;\n",
       "    }\n",
       "\n",
       "    .dataframe thead th {\n",
       "        text-align: right;\n",
       "    }\n",
       "</style>\n",
       "<table border=\"1\" class=\"dataframe\">\n",
       "  <thead>\n",
       "    <tr style=\"text-align: right;\">\n",
       "      <th></th>\n",
       "      <th>km_sentiment_cluster</th>\n",
       "    </tr>\n",
       "  </thead>\n",
       "  <tbody>\n",
       "    <tr>\n",
       "      <th>0</th>\n",
       "      <td>2</td>\n",
       "    </tr>\n",
       "    <tr>\n",
       "      <th>1</th>\n",
       "      <td>0</td>\n",
       "    </tr>\n",
       "    <tr>\n",
       "      <th>2</th>\n",
       "      <td>6</td>\n",
       "    </tr>\n",
       "    <tr>\n",
       "      <th>3</th>\n",
       "      <td>2</td>\n",
       "    </tr>\n",
       "    <tr>\n",
       "      <th>4</th>\n",
       "      <td>7</td>\n",
       "    </tr>\n",
       "    <tr>\n",
       "      <th>...</th>\n",
       "      <td>...</td>\n",
       "    </tr>\n",
       "    <tr>\n",
       "      <th>3029486</th>\n",
       "      <td>1</td>\n",
       "    </tr>\n",
       "    <tr>\n",
       "      <th>3029487</th>\n",
       "      <td>6</td>\n",
       "    </tr>\n",
       "    <tr>\n",
       "      <th>3029488</th>\n",
       "      <td>2</td>\n",
       "    </tr>\n",
       "    <tr>\n",
       "      <th>3029489</th>\n",
       "      <td>2</td>\n",
       "    </tr>\n",
       "    <tr>\n",
       "      <th>3029490</th>\n",
       "      <td>7</td>\n",
       "    </tr>\n",
       "  </tbody>\n",
       "</table>\n",
       "<p>3029491 rows × 1 columns</p>\n",
       "</div>"
      ],
      "text/plain": [
       "         km_sentiment_cluster\n",
       "0                           2\n",
       "1                           0\n",
       "2                           6\n",
       "3                           2\n",
       "4                           7\n",
       "...                       ...\n",
       "3029486                     1\n",
       "3029487                     6\n",
       "3029488                     2\n",
       "3029489                     2\n",
       "3029490                     7\n",
       "\n",
       "[3029491 rows x 1 columns]"
      ]
     },
     "execution_count": 128,
     "metadata": {},
     "output_type": "execute_result"
    }
   ],
   "source": [
    "km_cluster = pd.read_csv('km_cluster.csv')\n",
    "km_cluster"
   ]
  },
  {
   "cell_type": "code",
   "execution_count": 134,
   "metadata": {},
   "outputs": [
    {
     "data": {
      "image/png": "[encoded data removed]",
      "text/plain": [
       "<Figure size 432x288 with 1 Axes>"
      ]
     },
     "metadata": {
      "needs_background": "light"
     },
     "output_type": "display_data"
    }
   ],
   "source": [
    "km2 = km_cluster.groupby('km_sentiment_cluster').km_sentiment_cluster.count()\n",
    "km2.plot(kind='bar')\n",
    "plt.show()"
   ]
  },
  {
   "cell_type": "code",
   "execution_count": 96,
   "metadata": {},
   "outputs": [
    {
     "data": {
      "text/plain": [
       "121278"
      ]
     },
     "execution_count": 96,
     "metadata": {},
     "output_type": "execute_result"
    }
   ],
   "source": [
    "test_matrix = []\n",
    "m = len(test)    \n",
    "for i in range(0, m - 1):\n",
    "    for j in range(i + 1, m):\n",
    "        distance, path = fastdtw.fastdtw(test.iloc[i,:], test.iloc[j,:],dist=euclidean)\n",
    "        test_matrix.append(distance)\n",
    "len(test_matrix)"
   ]
  },
  {
   "cell_type": "code",
   "execution_count": 99,
   "metadata": {},
   "outputs": [
    {
     "data": {
      "text/plain": [
       "(121278, 1)"
      ]
     },
     "execution_count": 99,
     "metadata": {},
     "output_type": "execute_result"
    }
   ],
   "source": [
    "test_dtm = np.array(test_matrix)\n",
    "test_dtm = np.expand_dims(test_dtm,axis=1)\n",
    "test_dtm.shape"
   ]
  },
  {
   "cell_type": "code",
   "execution_count": 118,
   "metadata": {},
   "outputs": [
    {
     "data": {
      "text/plain": [
       "array([6, 2, 6, ..., 2, 2, 0])"
      ]
     },
     "execution_count": 118,
     "metadata": {},
     "output_type": "execute_result"
    }
   ],
   "source": [
    "predicted = km.predict(test_dtm)\n",
    "predicted"
   ]
  },
  {
   "cell_type": "code",
   "execution_count": null,
   "metadata": {},
   "outputs": [],
   "source": []
  },
  {
   "cell_type": "markdown",
   "metadata": {},
   "source": [
    "### Model 2: Gaussian Mixture Models (GMMs)"
   ]
  },
  {
   "cell_type": "code",
   "execution_count": 119,
   "metadata": {},
   "outputs": [],
   "source": [
    "lowest_bic = np.infty   # initial BIC is set to infinity\n",
    "best_gmm = None\n",
    "\n",
    "n_components_range = range(2,10)    # The number of clusters\n",
    "\n",
    "cv_types = ['spherical', 'tied', 'diag']  # The covariance type, for details check https://scikit-learn.org/stable/modules/generated/sklearn.mixture.GaussianMixture.html#sklearn.mixture.GaussianMixture.aic\n",
    "\n",
    "for cv_type in cv_types:\n",
    "    \n",
    "    for n_components in n_components_range:\n",
    "        \n",
    "        # Fit a Gaussian mixture with EM\n",
    "        gmm = mixture.GaussianMixture(n_components=n_components,\n",
    "                                      covariance_type=cv_type, random_state=42)\n",
    "        gmm.fit(dtm)\n",
    "        \n",
    "        bic = gmm.bic(dtm)  # get Model BIC\n",
    "        \n",
    "        if bic < lowest_bic:  # save the model with lowest BIC sofar\n",
    "            lowest_bic = bic\n",
    "            best_gmm = gmm\n"
   ]
  },
  {
   "cell_type": "code",
   "execution_count": 122,
   "metadata": {},
   "outputs": [
    {
     "name": "stdout",
     "output_type": "stream",
     "text": [
      "-13876012.714595705\n"
     ]
    },
    {
     "data": {
      "text/plain": [
       "GaussianMixture(covariance_type='spherical', n_components=9, random_state=42)"
      ]
     },
     "execution_count": 122,
     "metadata": {},
     "output_type": "execute_result"
    }
   ],
   "source": [
    "print(lowest_bic)\n",
    "best_gmm"
   ]
  },
  {
   "cell_type": "code",
   "execution_count": 121,
   "metadata": {},
   "outputs": [
    {
     "data": {
      "text/plain": [
       "array([7, 4, 7, 4, 1], dtype=int64)"
      ]
     },
     "execution_count": 121,
     "metadata": {},
     "output_type": "execute_result"
    }
   ],
   "source": [
    "predicted = best_gmm.predict(test_dtm)\n",
    "predicted[0:5]"
   ]
  },
  {
   "cell_type": "code",
   "execution_count": 137,
   "metadata": {},
   "outputs": [],
   "source": [
    "data2 = StandardScaler(with_std=True).fit_transform(data)"
   ]
  },
  {
   "cell_type": "code",
   "execution_count": 140,
   "metadata": {},
   "outputs": [],
   "source": [
    "mds = manifold.MDS(n_components=2, max_iter=3000, eps=1e-9, random_state=123,\n",
    "                   dissimilarity=\"euclidean\", n_jobs=1)\n",
    "data_mds2 = mds.fit(data2).embedding_\n"
   ]
  },
  {
   "cell_type": "code",
   "execution_count": 154,
   "metadata": {},
   "outputs": [
    {
     "data": {
      "image/png": "[encoded data removed]",
      "text/plain": [
       "<Figure size 1800x720 with 1 Axes>"
      ]
     },
     "metadata": {
      "needs_background": "light"
     },
     "output_type": "display_data"
    }
   ],
   "source": [
    "best_gmm.fit(data2)\n",
    "cluster_gmm = best_gmm.predict(data2)\n",
    "colors = np.array([x for x in 'bgrcmykcb'])\n",
    "color = colors[cluster_gmm]\n",
    "plt.figure(figsize=(25, 10))\n",
    "#scatter plot\n",
    "for x, y, c in zip(data_mds2[:,0], data_mds2[:,1], color):\n",
    "    plt.scatter(x,y,color=c)"
   ]
  },
  {
   "cell_type": "code",
   "execution_count": 163,
   "metadata": {},
   "outputs": [
    {
     "data": {
      "text/html": [
       "<div>\n",
       "<style scoped>\n",
       "    .dataframe tbody tr th:only-of-type {\n",
       "        vertical-align: middle;\n",
       "    }\n",
       "\n",
       "    .dataframe tbody tr th {\n",
       "        vertical-align: top;\n",
       "    }\n",
       "\n",
       "    .dataframe thead th {\n",
       "        text-align: right;\n",
       "    }\n",
       "</style>\n",
       "<table border=\"1\" class=\"dataframe\">\n",
       "  <thead>\n",
       "    <tr style=\"text-align: right;\">\n",
       "      <th></th>\n",
       "      <th>sentiment_cluster</th>\n",
       "    </tr>\n",
       "  </thead>\n",
       "  <tbody>\n",
       "    <tr>\n",
       "      <th>0</th>\n",
       "      <td>3</td>\n",
       "    </tr>\n",
       "    <tr>\n",
       "      <th>1</th>\n",
       "      <td>8</td>\n",
       "    </tr>\n",
       "    <tr>\n",
       "      <th>2</th>\n",
       "      <td>2</td>\n",
       "    </tr>\n",
       "    <tr>\n",
       "      <th>3</th>\n",
       "      <td>0</td>\n",
       "    </tr>\n",
       "    <tr>\n",
       "      <th>4</th>\n",
       "      <td>0</td>\n",
       "    </tr>\n",
       "    <tr>\n",
       "      <th>...</th>\n",
       "      <td>...</td>\n",
       "    </tr>\n",
       "    <tr>\n",
       "      <th>2457</th>\n",
       "      <td>5</td>\n",
       "    </tr>\n",
       "    <tr>\n",
       "      <th>2458</th>\n",
       "      <td>4</td>\n",
       "    </tr>\n",
       "    <tr>\n",
       "      <th>2459</th>\n",
       "      <td>1</td>\n",
       "    </tr>\n",
       "    <tr>\n",
       "      <th>2460</th>\n",
       "      <td>8</td>\n",
       "    </tr>\n",
       "    <tr>\n",
       "      <th>2461</th>\n",
       "      <td>3</td>\n",
       "    </tr>\n",
       "  </tbody>\n",
       "</table>\n",
       "<p>2462 rows × 1 columns</p>\n",
       "</div>"
      ],
      "text/plain": [
       "      sentiment_cluster\n",
       "0                     3\n",
       "1                     8\n",
       "2                     2\n",
       "3                     0\n",
       "4                     0\n",
       "...                 ...\n",
       "2457                  5\n",
       "2458                  4\n",
       "2459                  1\n",
       "2460                  8\n",
       "2461                  3\n",
       "\n",
       "[2462 rows x 1 columns]"
      ]
     },
     "execution_count": 163,
     "metadata": {},
     "output_type": "execute_result"
    }
   ],
   "source": [
    "cluster_gmm2 = pd.DataFrame(data=cluster_gmm,columns=['sentiment_cluster'])\n",
    "cluster_gmm2"
   ]
  },
  {
   "cell_type": "code",
   "execution_count": 180,
   "metadata": {},
   "outputs": [
    {
     "data": {
      "text/html": [
       "<div>\n",
       "<style scoped>\n",
       "    .dataframe tbody tr th:only-of-type {\n",
       "        vertical-align: middle;\n",
       "    }\n",
       "\n",
       "    .dataframe tbody tr th {\n",
       "        vertical-align: top;\n",
       "    }\n",
       "\n",
       "    .dataframe thead th {\n",
       "        text-align: right;\n",
       "    }\n",
       "</style>\n",
       "<table border=\"1\" class=\"dataframe\">\n",
       "  <thead>\n",
       "    <tr style=\"text-align: right;\">\n",
       "      <th></th>\n",
       "      <th>transcript</th>\n",
       "      <th>url</th>\n",
       "      <th>AFRAID</th>\n",
       "      <th>AMUSED</th>\n",
       "      <th>ANGRY</th>\n",
       "      <th>ANNOYED</th>\n",
       "      <th>DONT_CARE</th>\n",
       "      <th>HAPPY</th>\n",
       "      <th>INSPIRED</th>\n",
       "      <th>SAD</th>\n",
       "    </tr>\n",
       "  </thead>\n",
       "  <tbody>\n",
       "    <tr>\n",
       "      <th>0</th>\n",
       "      <td>Good morning. How are you?(Laughter)It's been ...</td>\n",
       "      <td>https://www.ted.com/talks/ken_robinson_says_sc...</td>\n",
       "      <td>0.092794</td>\n",
       "      <td>0.114177</td>\n",
       "      <td>0.116472</td>\n",
       "      <td>0.132365</td>\n",
       "      <td>0.129963</td>\n",
       "      <td>0.105839</td>\n",
       "      <td>0.201247</td>\n",
       "      <td>0.107143</td>\n",
       "    </tr>\n",
       "    <tr>\n",
       "      <th>1</th>\n",
       "      <td>Thank you so much, Chris. And it's truly a gre...</td>\n",
       "      <td>https://www.ted.com/talks/al_gore_on_averting_...</td>\n",
       "      <td>0.108238</td>\n",
       "      <td>0.111975</td>\n",
       "      <td>0.121799</td>\n",
       "      <td>0.134885</td>\n",
       "      <td>0.129981</td>\n",
       "      <td>0.107100</td>\n",
       "      <td>0.178588</td>\n",
       "      <td>0.107434</td>\n",
       "    </tr>\n",
       "    <tr>\n",
       "      <th>2</th>\n",
       "      <td>(Music: \"The Sound of Silence,\" Simon &amp; Garfun...</td>\n",
       "      <td>https://www.ted.com/talks/david_pogue_says_sim...</td>\n",
       "      <td>0.093672</td>\n",
       "      <td>0.123894</td>\n",
       "      <td>0.115410</td>\n",
       "      <td>0.138560</td>\n",
       "      <td>0.138518</td>\n",
       "      <td>0.108802</td>\n",
       "      <td>0.179580</td>\n",
       "      <td>0.101564</td>\n",
       "    </tr>\n",
       "    <tr>\n",
       "      <th>3</th>\n",
       "      <td>If you're here today — and I'm very happy that...</td>\n",
       "      <td>https://www.ted.com/talks/majora_carter_s_tale...</td>\n",
       "      <td>0.105926</td>\n",
       "      <td>0.106197</td>\n",
       "      <td>0.128772</td>\n",
       "      <td>0.134356</td>\n",
       "      <td>0.121305</td>\n",
       "      <td>0.108597</td>\n",
       "      <td>0.182394</td>\n",
       "      <td>0.112452</td>\n",
       "    </tr>\n",
       "    <tr>\n",
       "      <th>4</th>\n",
       "      <td>About 10 years ago, I took on the task to teac...</td>\n",
       "      <td>https://www.ted.com/talks/hans_rosling_shows_t...</td>\n",
       "      <td>0.108617</td>\n",
       "      <td>0.112215</td>\n",
       "      <td>0.118959</td>\n",
       "      <td>0.129735</td>\n",
       "      <td>0.126809</td>\n",
       "      <td>0.107173</td>\n",
       "      <td>0.184243</td>\n",
       "      <td>0.112248</td>\n",
       "    </tr>\n",
       "    <tr>\n",
       "      <th>...</th>\n",
       "      <td>...</td>\n",
       "      <td>...</td>\n",
       "      <td>...</td>\n",
       "      <td>...</td>\n",
       "      <td>...</td>\n",
       "      <td>...</td>\n",
       "      <td>...</td>\n",
       "      <td>...</td>\n",
       "      <td>...</td>\n",
       "      <td>...</td>\n",
       "    </tr>\n",
       "    <tr>\n",
       "      <th>2462</th>\n",
       "      <td>So, Ma was trying to explain something to me a...</td>\n",
       "      <td>https://www.ted.com/talks/duarte_geraldino_wha...</td>\n",
       "      <td>0.102343</td>\n",
       "      <td>0.108939</td>\n",
       "      <td>0.131899</td>\n",
       "      <td>0.138636</td>\n",
       "      <td>0.126494</td>\n",
       "      <td>0.101510</td>\n",
       "      <td>0.174694</td>\n",
       "      <td>0.115485</td>\n",
       "    </tr>\n",
       "    <tr>\n",
       "      <th>2463</th>\n",
       "      <td>This is a picture of a sunset on Mars taken by...</td>\n",
       "      <td>https://www.ted.com/talks/armando_azua_bustos_...</td>\n",
       "      <td>0.120188</td>\n",
       "      <td>0.119194</td>\n",
       "      <td>0.114707</td>\n",
       "      <td>0.126044</td>\n",
       "      <td>0.117753</td>\n",
       "      <td>0.104346</td>\n",
       "      <td>0.175029</td>\n",
       "      <td>0.122739</td>\n",
       "    </tr>\n",
       "    <tr>\n",
       "      <th>2464</th>\n",
       "      <td>In my early days as a graduate student, I went...</td>\n",
       "      <td>https://www.ted.com/talks/radhika_nagpal_what_...</td>\n",
       "      <td>0.097120</td>\n",
       "      <td>0.131195</td>\n",
       "      <td>0.119608</td>\n",
       "      <td>0.129501</td>\n",
       "      <td>0.123598</td>\n",
       "      <td>0.106018</td>\n",
       "      <td>0.193803</td>\n",
       "      <td>0.099157</td>\n",
       "    </tr>\n",
       "    <tr>\n",
       "      <th>2465</th>\n",
       "      <td>I took a cell phone and accidentally made myse...</td>\n",
       "      <td>https://www.ted.com/talks/theo_e_j_wilson_a_bl...</td>\n",
       "      <td>0.094750</td>\n",
       "      <td>0.117907</td>\n",
       "      <td>0.122510</td>\n",
       "      <td>0.136626</td>\n",
       "      <td>0.131677</td>\n",
       "      <td>0.101304</td>\n",
       "      <td>0.191245</td>\n",
       "      <td>0.103982</td>\n",
       "    </tr>\n",
       "    <tr>\n",
       "      <th>2466</th>\n",
       "      <td>We humans are becoming an urban species, so ci...</td>\n",
       "      <td>https://www.ted.com/talks/karoliina_korppoo_ho...</td>\n",
       "      <td>0.099718</td>\n",
       "      <td>0.114283</td>\n",
       "      <td>0.115306</td>\n",
       "      <td>0.133201</td>\n",
       "      <td>0.128464</td>\n",
       "      <td>0.111701</td>\n",
       "      <td>0.191686</td>\n",
       "      <td>0.105641</td>\n",
       "    </tr>\n",
       "  </tbody>\n",
       "</table>\n",
       "<p>2467 rows × 10 columns</p>\n",
       "</div>"
      ],
      "text/plain": [
       "                                             transcript  \\\n",
       "0     Good morning. How are you?(Laughter)It's been ...   \n",
       "1     Thank you so much, Chris. And it's truly a gre...   \n",
       "2     (Music: \"The Sound of Silence,\" Simon & Garfun...   \n",
       "3     If you're here today — and I'm very happy that...   \n",
       "4     About 10 years ago, I took on the task to teac...   \n",
       "...                                                 ...   \n",
       "2462  So, Ma was trying to explain something to me a...   \n",
       "2463  This is a picture of a sunset on Mars taken by...   \n",
       "2464  In my early days as a graduate student, I went...   \n",
       "2465  I took a cell phone and accidentally made myse...   \n",
       "2466  We humans are becoming an urban species, so ci...   \n",
       "\n",
       "                                                    url    AFRAID    AMUSED  \\\n",
       "0     https://www.ted.com/talks/ken_robinson_says_sc...  0.092794  0.114177   \n",
       "1     https://www.ted.com/talks/al_gore_on_averting_...  0.108238  0.111975   \n",
       "2     https://www.ted.com/talks/david_pogue_says_sim...  0.093672  0.123894   \n",
       "3     https://www.ted.com/talks/majora_carter_s_tale...  0.105926  0.106197   \n",
       "4     https://www.ted.com/talks/hans_rosling_shows_t...  0.108617  0.112215   \n",
       "...                                                 ...       ...       ...   \n",
       "2462  https://www.ted.com/talks/duarte_geraldino_wha...  0.102343  0.108939   \n",
       "2463  https://www.ted.com/talks/armando_azua_bustos_...  0.120188  0.119194   \n",
       "2464  https://www.ted.com/talks/radhika_nagpal_what_...  0.097120  0.131195   \n",
       "2465  https://www.ted.com/talks/theo_e_j_wilson_a_bl...  0.094750  0.117907   \n",
       "2466  https://www.ted.com/talks/karoliina_korppoo_ho...  0.099718  0.114283   \n",
       "\n",
       "         ANGRY   ANNOYED  DONT_CARE     HAPPY  INSPIRED       SAD  \n",
       "0     0.116472  0.132365   0.129963  0.105839  0.201247  0.107143  \n",
       "1     0.121799  0.134885   0.129981  0.107100  0.178588  0.107434  \n",
       "2     0.115410  0.138560   0.138518  0.108802  0.179580  0.101564  \n",
       "3     0.128772  0.134356   0.121305  0.108597  0.182394  0.112452  \n",
       "4     0.118959  0.129735   0.126809  0.107173  0.184243  0.112248  \n",
       "...        ...       ...        ...       ...       ...       ...  \n",
       "2462  0.131899  0.138636   0.126494  0.101510  0.174694  0.115485  \n",
       "2463  0.114707  0.126044   0.117753  0.104346  0.175029  0.122739  \n",
       "2464  0.119608  0.129501   0.123598  0.106018  0.193803  0.099157  \n",
       "2465  0.122510  0.136626   0.131677  0.101304  0.191245  0.103982  \n",
       "2466  0.115306  0.133201   0.128464  0.111701  0.191686  0.105641  \n",
       "\n",
       "[2467 rows x 10 columns]"
      ]
     },
     "execution_count": 180,
     "metadata": {},
     "output_type": "execute_result"
    }
   ],
   "source": [
    "data2 = pd.read_csv('sentiment_tran.csv')\n",
    "data2"
   ]
  },
  {
   "cell_type": "code",
   "execution_count": 181,
   "metadata": {},
   "outputs": [
    {
     "name": "stdout",
     "output_type": "stream",
     "text": [
      "                                             transcript  \\\n",
      "146                         (Applause)(Music)(Applause)   \n",
      "908                  (Music)(Applause)(Music)(Applause)   \n",
      "1173  (Music)(Applause)(Music)(Applause)(Music)(Appl...   \n",
      "1796                                  (Music)(Applause)   \n",
      "1919                (Music)(Music) (Applause)(Applause)   \n",
      "\n",
      "                                                    url  AFRAID  AMUSED  \\\n",
      "146   https://www.ted.com/talks/kenichi_ebina_s_magi...     NaN     NaN   \n",
      "908   https://www.ted.com/talks/robert_gupta_and_jos...     NaN     NaN   \n",
      "1173  https://www.ted.com/talks/quixotic_fusion_danc...     NaN     NaN   \n",
      "1796  https://www.ted.com/talks/aakash_odedra_a_danc...     NaN     NaN   \n",
      "1919  https://www.ted.com/talks/joey_alexander_an_11...     NaN     NaN   \n",
      "\n",
      "      ANGRY  ANNOYED  DONT_CARE  HAPPY  INSPIRED  SAD  \n",
      "146     NaN      NaN        NaN    NaN       NaN  NaN  \n",
      "908     NaN      NaN        NaN    NaN       NaN  NaN  \n",
      "1173    NaN      NaN        NaN    NaN       NaN  NaN  \n",
      "1796    NaN      NaN        NaN    NaN       NaN  NaN  \n",
      "1919    NaN      NaN        NaN    NaN       NaN  NaN  \n"
     ]
    }
   ],
   "source": [
    "print(data2[data2.isnull().any(axis=1)].head())"
   ]
  },
  {
   "cell_type": "code",
   "execution_count": 197,
   "metadata": {},
   "outputs": [],
   "source": [
    "data3 = data2.dropna()\n",
    "data3.to_csv('sent_tran_na.csv',index=False)"
   ]
  },
  {
   "cell_type": "code",
   "execution_count": 198,
   "metadata": {},
   "outputs": [
    {
     "data": {
      "text/html": [
       "<div>\n",
       "<style scoped>\n",
       "    .dataframe tbody tr th:only-of-type {\n",
       "        vertical-align: middle;\n",
       "    }\n",
       "\n",
       "    .dataframe tbody tr th {\n",
       "        vertical-align: top;\n",
       "    }\n",
       "\n",
       "    .dataframe thead th {\n",
       "        text-align: right;\n",
       "    }\n",
       "</style>\n",
       "<table border=\"1\" class=\"dataframe\">\n",
       "  <thead>\n",
       "    <tr style=\"text-align: right;\">\n",
       "      <th></th>\n",
       "      <th>transcript</th>\n",
       "      <th>url</th>\n",
       "      <th>AFRAID</th>\n",
       "      <th>AMUSED</th>\n",
       "      <th>ANGRY</th>\n",
       "      <th>ANNOYED</th>\n",
       "      <th>DONT_CARE</th>\n",
       "      <th>HAPPY</th>\n",
       "      <th>INSPIRED</th>\n",
       "      <th>SAD</th>\n",
       "    </tr>\n",
       "  </thead>\n",
       "  <tbody>\n",
       "    <tr>\n",
       "      <th>0</th>\n",
       "      <td>Good morning. How are you?(Laughter)It's been ...</td>\n",
       "      <td>https://www.ted.com/talks/ken_robinson_says_sc...</td>\n",
       "      <td>0.092794</td>\n",
       "      <td>0.114177</td>\n",
       "      <td>0.116472</td>\n",
       "      <td>0.132365</td>\n",
       "      <td>0.129963</td>\n",
       "      <td>0.105839</td>\n",
       "      <td>0.201247</td>\n",
       "      <td>0.107143</td>\n",
       "    </tr>\n",
       "    <tr>\n",
       "      <th>1</th>\n",
       "      <td>Thank you so much, Chris. And it's truly a gre...</td>\n",
       "      <td>https://www.ted.com/talks/al_gore_on_averting_...</td>\n",
       "      <td>0.108238</td>\n",
       "      <td>0.111975</td>\n",
       "      <td>0.121799</td>\n",
       "      <td>0.134885</td>\n",
       "      <td>0.129981</td>\n",
       "      <td>0.107100</td>\n",
       "      <td>0.178588</td>\n",
       "      <td>0.107434</td>\n",
       "    </tr>\n",
       "    <tr>\n",
       "      <th>2</th>\n",
       "      <td>(Music: \"The Sound of Silence,\" Simon &amp; Garfun...</td>\n",
       "      <td>https://www.ted.com/talks/david_pogue_says_sim...</td>\n",
       "      <td>0.093672</td>\n",
       "      <td>0.123894</td>\n",
       "      <td>0.115410</td>\n",
       "      <td>0.138560</td>\n",
       "      <td>0.138518</td>\n",
       "      <td>0.108802</td>\n",
       "      <td>0.179580</td>\n",
       "      <td>0.101564</td>\n",
       "    </tr>\n",
       "    <tr>\n",
       "      <th>3</th>\n",
       "      <td>If you're here today — and I'm very happy that...</td>\n",
       "      <td>https://www.ted.com/talks/majora_carter_s_tale...</td>\n",
       "      <td>0.105926</td>\n",
       "      <td>0.106197</td>\n",
       "      <td>0.128772</td>\n",
       "      <td>0.134356</td>\n",
       "      <td>0.121305</td>\n",
       "      <td>0.108597</td>\n",
       "      <td>0.182394</td>\n",
       "      <td>0.112452</td>\n",
       "    </tr>\n",
       "    <tr>\n",
       "      <th>4</th>\n",
       "      <td>About 10 years ago, I took on the task to teac...</td>\n",
       "      <td>https://www.ted.com/talks/hans_rosling_shows_t...</td>\n",
       "      <td>0.108617</td>\n",
       "      <td>0.112215</td>\n",
       "      <td>0.118959</td>\n",
       "      <td>0.129735</td>\n",
       "      <td>0.126809</td>\n",
       "      <td>0.107173</td>\n",
       "      <td>0.184243</td>\n",
       "      <td>0.112248</td>\n",
       "    </tr>\n",
       "    <tr>\n",
       "      <th>...</th>\n",
       "      <td>...</td>\n",
       "      <td>...</td>\n",
       "      <td>...</td>\n",
       "      <td>...</td>\n",
       "      <td>...</td>\n",
       "      <td>...</td>\n",
       "      <td>...</td>\n",
       "      <td>...</td>\n",
       "      <td>...</td>\n",
       "      <td>...</td>\n",
       "    </tr>\n",
       "    <tr>\n",
       "      <th>2457</th>\n",
       "      <td>So, Ma was trying to explain something to me a...</td>\n",
       "      <td>https://www.ted.com/talks/duarte_geraldino_wha...</td>\n",
       "      <td>0.102343</td>\n",
       "      <td>0.108939</td>\n",
       "      <td>0.131899</td>\n",
       "      <td>0.138636</td>\n",
       "      <td>0.126494</td>\n",
       "      <td>0.101510</td>\n",
       "      <td>0.174694</td>\n",
       "      <td>0.115485</td>\n",
       "    </tr>\n",
       "    <tr>\n",
       "      <th>2458</th>\n",
       "      <td>This is a picture of a sunset on Mars taken by...</td>\n",
       "      <td>https://www.ted.com/talks/armando_azua_bustos_...</td>\n",
       "      <td>0.120188</td>\n",
       "      <td>0.119194</td>\n",
       "      <td>0.114707</td>\n",
       "      <td>0.126044</td>\n",
       "      <td>0.117753</td>\n",
       "      <td>0.104346</td>\n",
       "      <td>0.175029</td>\n",
       "      <td>0.122739</td>\n",
       "    </tr>\n",
       "    <tr>\n",
       "      <th>2459</th>\n",
       "      <td>In my early days as a graduate student, I went...</td>\n",
       "      <td>https://www.ted.com/talks/radhika_nagpal_what_...</td>\n",
       "      <td>0.097120</td>\n",
       "      <td>0.131195</td>\n",
       "      <td>0.119608</td>\n",
       "      <td>0.129501</td>\n",
       "      <td>0.123598</td>\n",
       "      <td>0.106018</td>\n",
       "      <td>0.193803</td>\n",
       "      <td>0.099157</td>\n",
       "    </tr>\n",
       "    <tr>\n",
       "      <th>2460</th>\n",
       "      <td>I took a cell phone and accidentally made myse...</td>\n",
       "      <td>https://www.ted.com/talks/theo_e_j_wilson_a_bl...</td>\n",
       "      <td>0.094750</td>\n",
       "      <td>0.117907</td>\n",
       "      <td>0.122510</td>\n",
       "      <td>0.136626</td>\n",
       "      <td>0.131677</td>\n",
       "      <td>0.101304</td>\n",
       "      <td>0.191245</td>\n",
       "      <td>0.103982</td>\n",
       "    </tr>\n",
       "    <tr>\n",
       "      <th>2461</th>\n",
       "      <td>We humans are becoming an urban species, so ci...</td>\n",
       "      <td>https://www.ted.com/talks/karoliina_korppoo_ho...</td>\n",
       "      <td>0.099718</td>\n",
       "      <td>0.114283</td>\n",
       "      <td>0.115306</td>\n",
       "      <td>0.133201</td>\n",
       "      <td>0.128464</td>\n",
       "      <td>0.111701</td>\n",
       "      <td>0.191686</td>\n",
       "      <td>0.105641</td>\n",
       "    </tr>\n",
       "  </tbody>\n",
       "</table>\n",
       "<p>2462 rows × 10 columns</p>\n",
       "</div>"
      ],
      "text/plain": [
       "                                             transcript  \\\n",
       "0     Good morning. How are you?(Laughter)It's been ...   \n",
       "1     Thank you so much, Chris. And it's truly a gre...   \n",
       "2     (Music: \"The Sound of Silence,\" Simon & Garfun...   \n",
       "3     If you're here today — and I'm very happy that...   \n",
       "4     About 10 years ago, I took on the task to teac...   \n",
       "...                                                 ...   \n",
       "2457  So, Ma was trying to explain something to me a...   \n",
       "2458  This is a picture of a sunset on Mars taken by...   \n",
       "2459  In my early days as a graduate student, I went...   \n",
       "2460  I took a cell phone and accidentally made myse...   \n",
       "2461  We humans are becoming an urban species, so ci...   \n",
       "\n",
       "                                                    url    AFRAID    AMUSED  \\\n",
       "0     https://www.ted.com/talks/ken_robinson_says_sc...  0.092794  0.114177   \n",
       "1     https://www.ted.com/talks/al_gore_on_averting_...  0.108238  0.111975   \n",
       "2     https://www.ted.com/talks/david_pogue_says_sim...  0.093672  0.123894   \n",
       "3     https://www.ted.com/talks/majora_carter_s_tale...  0.105926  0.106197   \n",
       "4     https://www.ted.com/talks/hans_rosling_shows_t...  0.108617  0.112215   \n",
       "...                                                 ...       ...       ...   \n",
       "2457  https://www.ted.com/talks/duarte_geraldino_wha...  0.102343  0.108939   \n",
       "2458  https://www.ted.com/talks/armando_azua_bustos_...  0.120188  0.119194   \n",
       "2459  https://www.ted.com/talks/radhika_nagpal_what_...  0.097120  0.131195   \n",
       "2460  https://www.ted.com/talks/theo_e_j_wilson_a_bl...  0.094750  0.117907   \n",
       "2461  https://www.ted.com/talks/karoliina_korppoo_ho...  0.099718  0.114283   \n",
       "\n",
       "         ANGRY   ANNOYED  DONT_CARE     HAPPY  INSPIRED       SAD  \n",
       "0     0.116472  0.132365   0.129963  0.105839  0.201247  0.107143  \n",
       "1     0.121799  0.134885   0.129981  0.107100  0.178588  0.107434  \n",
       "2     0.115410  0.138560   0.138518  0.108802  0.179580  0.101564  \n",
       "3     0.128772  0.134356   0.121305  0.108597  0.182394  0.112452  \n",
       "4     0.118959  0.129735   0.126809  0.107173  0.184243  0.112248  \n",
       "...        ...       ...        ...       ...       ...       ...  \n",
       "2457  0.131899  0.138636   0.126494  0.101510  0.174694  0.115485  \n",
       "2458  0.114707  0.126044   0.117753  0.104346  0.175029  0.122739  \n",
       "2459  0.119608  0.129501   0.123598  0.106018  0.193803  0.099157  \n",
       "2460  0.122510  0.136626   0.131677  0.101304  0.191245  0.103982  \n",
       "2461  0.115306  0.133201   0.128464  0.111701  0.191686  0.105641  \n",
       "\n",
       "[2462 rows x 10 columns]"
      ]
     },
     "execution_count": 198,
     "metadata": {},
     "output_type": "execute_result"
    }
   ],
   "source": [
    "data3 = pd.read_csv('sent_tran_na.csv')\n",
    "data3"
   ]
  },
  {
   "cell_type": "code",
   "execution_count": 202,
   "metadata": {},
   "outputs": [
    {
     "data": {
      "text/html": [
       "<div>\n",
       "<style scoped>\n",
       "    .dataframe tbody tr th:only-of-type {\n",
       "        vertical-align: middle;\n",
       "    }\n",
       "\n",
       "    .dataframe tbody tr th {\n",
       "        vertical-align: top;\n",
       "    }\n",
       "\n",
       "    .dataframe thead th {\n",
       "        text-align: right;\n",
       "    }\n",
       "</style>\n",
       "<table border=\"1\" class=\"dataframe\">\n",
       "  <thead>\n",
       "    <tr style=\"text-align: right;\">\n",
       "      <th></th>\n",
       "      <th>url</th>\n",
       "      <th>sentiment_cluster</th>\n",
       "    </tr>\n",
       "  </thead>\n",
       "  <tbody>\n",
       "    <tr>\n",
       "      <th>0</th>\n",
       "      <td>https://www.ted.com/talks/ken_robinson_says_sc...</td>\n",
       "      <td>3</td>\n",
       "    </tr>\n",
       "    <tr>\n",
       "      <th>1</th>\n",
       "      <td>https://www.ted.com/talks/al_gore_on_averting_...</td>\n",
       "      <td>8</td>\n",
       "    </tr>\n",
       "    <tr>\n",
       "      <th>2</th>\n",
       "      <td>https://www.ted.com/talks/david_pogue_says_sim...</td>\n",
       "      <td>2</td>\n",
       "    </tr>\n",
       "    <tr>\n",
       "      <th>3</th>\n",
       "      <td>https://www.ted.com/talks/majora_carter_s_tale...</td>\n",
       "      <td>0</td>\n",
       "    </tr>\n",
       "    <tr>\n",
       "      <th>4</th>\n",
       "      <td>https://www.ted.com/talks/hans_rosling_shows_t...</td>\n",
       "      <td>0</td>\n",
       "    </tr>\n",
       "    <tr>\n",
       "      <th>...</th>\n",
       "      <td>...</td>\n",
       "      <td>...</td>\n",
       "    </tr>\n",
       "    <tr>\n",
       "      <th>2457</th>\n",
       "      <td>https://www.ted.com/talks/duarte_geraldino_wha...</td>\n",
       "      <td>5</td>\n",
       "    </tr>\n",
       "    <tr>\n",
       "      <th>2458</th>\n",
       "      <td>https://www.ted.com/talks/armando_azua_bustos_...</td>\n",
       "      <td>4</td>\n",
       "    </tr>\n",
       "    <tr>\n",
       "      <th>2459</th>\n",
       "      <td>https://www.ted.com/talks/radhika_nagpal_what_...</td>\n",
       "      <td>1</td>\n",
       "    </tr>\n",
       "    <tr>\n",
       "      <th>2460</th>\n",
       "      <td>https://www.ted.com/talks/theo_e_j_wilson_a_bl...</td>\n",
       "      <td>8</td>\n",
       "    </tr>\n",
       "    <tr>\n",
       "      <th>2461</th>\n",
       "      <td>https://www.ted.com/talks/karoliina_korppoo_ho...</td>\n",
       "      <td>3</td>\n",
       "    </tr>\n",
       "  </tbody>\n",
       "</table>\n",
       "<p>2462 rows × 2 columns</p>\n",
       "</div>"
      ],
      "text/plain": [
       "                                                    url  sentiment_cluster\n",
       "0     https://www.ted.com/talks/ken_robinson_says_sc...                  3\n",
       "1     https://www.ted.com/talks/al_gore_on_averting_...                  8\n",
       "2     https://www.ted.com/talks/david_pogue_says_sim...                  2\n",
       "3     https://www.ted.com/talks/majora_carter_s_tale...                  0\n",
       "4     https://www.ted.com/talks/hans_rosling_shows_t...                  0\n",
       "...                                                 ...                ...\n",
       "2457  https://www.ted.com/talks/duarte_geraldino_wha...                  5\n",
       "2458  https://www.ted.com/talks/armando_azua_bustos_...                  4\n",
       "2459  https://www.ted.com/talks/radhika_nagpal_what_...                  1\n",
       "2460  https://www.ted.com/talks/theo_e_j_wilson_a_bl...                  8\n",
       "2461  https://www.ted.com/talks/karoliina_korppoo_ho...                  3\n",
       "\n",
       "[2462 rows x 2 columns]"
      ]
     },
     "execution_count": 202,
     "metadata": {},
     "output_type": "execute_result"
    }
   ],
   "source": [
    "data4 = pd.concat([data3['url'], cluster_gmm2],axis=1,join= 'outer') \n",
    "data4"
   ]
  },
  {
   "cell_type": "code",
   "execution_count": 201,
   "metadata": {},
   "outputs": [
    {
     "data": {
      "text/plain": [
       "transcript           False\n",
       "url                  False\n",
       "AFRAID               False\n",
       "AMUSED               False\n",
       "ANGRY                False\n",
       "ANNOYED              False\n",
       "DONT_CARE            False\n",
       "HAPPY                False\n",
       "INSPIRED             False\n",
       "SAD                  False\n",
       "sentiment_cluster    False\n",
       "dtype: bool"
      ]
     },
     "execution_count": 201,
     "metadata": {},
     "output_type": "execute_result"
    }
   ],
   "source": [
    "data4.isnull().any()"
   ]
  },
  {
   "cell_type": "code",
   "execution_count": 205,
   "metadata": {},
   "outputs": [],
   "source": [
    "data4.to_csv('sentiment_cluster_gmm.csv',index=False)"
   ]
  }
 ],
 "metadata": {
  "kernelspec": {
   "display_name": "Python 3 (ipykernel)",
   "language": "python",
   "name": "python3"
  },
  "language_info": {
   "codemirror_mode": {
    "name": "ipython",
    "version": 3
   },
   "file_extension": ".py",
   "mimetype": "text/x-python",
   "name": "python",
   "nbconvert_exporter": "python",
   "pygments_lexer": "ipython3",
   "version": "3.8.8"
  }
 },
 "nbformat": 4,
 "nbformat_minor": 4
}
